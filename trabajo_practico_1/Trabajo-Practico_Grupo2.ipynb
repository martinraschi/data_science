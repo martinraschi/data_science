{
 "cells": [
  {
   "cell_type": "markdown",
   "id": "7168cc2e",
   "metadata": {},
   "source": [
    "**Trabajo Práctico**\n",
    "\n",
    "**Predecir el precio por metro cuadrado de una propiedad**\n",
    "\n",
    "**Objetivos:**\n",
    "\n",
    "* Efectuar una limpieza del dataset provisto. Particularmente, deberá diseñar estrategias para lidiar con los datos perdidos en ciertas variables.\n",
    "\n",
    "* Realizar un análisis descriptivo de las principales variables.\n",
    "\n",
    "* Crear nuevas columnas a partir de las características dadas que puedan tener valor predictivo.\n"
   ]
  },
  {
   "cell_type": "markdown",
   "id": "b15203b2",
   "metadata": {},
   "source": [
    "## Análisis Exploratorio de Datos"
   ]
  },
  {
   "cell_type": "code",
   "execution_count": 1,
   "id": "742ddc7b",
   "metadata": {},
   "outputs": [],
   "source": [
    "import numpy as np\n",
    "import pandas as pd\n",
    "import re\n",
    "import seaborn as sns\n",
    "import matplotlib.pyplot as plt\n",
    "from matplotlib.ticker import ScalarFormatter\n",
    "from matplotlib import gridspec\n",
    "\n",
    "import warnings\n",
    "warnings.filterwarnings('ignore')"
   ]
  },
  {
   "cell_type": "code",
   "execution_count": 2,
   "id": "71dce2fa",
   "metadata": {},
   "outputs": [],
   "source": [
    "#Guardamos el path del archivo en una variable para despues cargarlo en un df\n",
    "data_location = \"Data/properatti.csv\"\n",
    "\n",
    "# Creamos un DataFrame con la info del csv\n",
    "data_original = pd.read_csv(data_location, sep = \",\", low_memory=False,index_col=0)"
   ]
  },
  {
   "cell_type": "code",
   "execution_count": 3,
   "id": "74063e93",
   "metadata": {},
   "outputs": [],
   "source": [
    "data=data_original.copy()"
   ]
  },
  {
   "cell_type": "code",
   "execution_count": 4,
   "id": "aa00eaef",
   "metadata": {},
   "outputs": [
    {
     "data": {
      "text/html": [
       "<div>\n",
       "<style scoped>\n",
       "    .dataframe tbody tr th:only-of-type {\n",
       "        vertical-align: middle;\n",
       "    }\n",
       "\n",
       "    .dataframe tbody tr th {\n",
       "        vertical-align: top;\n",
       "    }\n",
       "\n",
       "    .dataframe thead th {\n",
       "        text-align: right;\n",
       "    }\n",
       "</style>\n",
       "<table border=\"1\" class=\"dataframe\">\n",
       "  <thead>\n",
       "    <tr style=\"text-align: right;\">\n",
       "      <th></th>\n",
       "      <th>operation</th>\n",
       "      <th>property_type</th>\n",
       "      <th>place_name</th>\n",
       "      <th>place_with_parent_names</th>\n",
       "      <th>country_name</th>\n",
       "      <th>state_name</th>\n",
       "      <th>geonames_id</th>\n",
       "      <th>lat-lon</th>\n",
       "      <th>lat</th>\n",
       "      <th>lon</th>\n",
       "      <th>...</th>\n",
       "      <th>surface_covered_in_m2</th>\n",
       "      <th>price_usd_per_m2</th>\n",
       "      <th>price_per_m2</th>\n",
       "      <th>floor</th>\n",
       "      <th>rooms</th>\n",
       "      <th>expenses</th>\n",
       "      <th>properati_url</th>\n",
       "      <th>description</th>\n",
       "      <th>title</th>\n",
       "      <th>image_thumbnail</th>\n",
       "    </tr>\n",
       "  </thead>\n",
       "  <tbody>\n",
       "    <tr>\n",
       "      <th>0</th>\n",
       "      <td>sell</td>\n",
       "      <td>PH</td>\n",
       "      <td>Mataderos</td>\n",
       "      <td>|Argentina|Capital Federal|Mataderos|</td>\n",
       "      <td>Argentina</td>\n",
       "      <td>Capital Federal</td>\n",
       "      <td>3430787.0</td>\n",
       "      <td>-34.6618237,-58.5088387</td>\n",
       "      <td>-34.661824</td>\n",
       "      <td>-58.508839</td>\n",
       "      <td>...</td>\n",
       "      <td>40.0</td>\n",
       "      <td>1127.272727</td>\n",
       "      <td>1550.000000</td>\n",
       "      <td>NaN</td>\n",
       "      <td>NaN</td>\n",
       "      <td>NaN</td>\n",
       "      <td>http://www.properati.com.ar/15bo8_venta_ph_mataderos_lavadero_pati...</td>\n",
       "      <td>2 AMBIENTES TIPO CASA PLANTA BAJA POR PASILLO, REFACCIONADO A NUEV...</td>\n",
       "      <td>2 AMB TIPO CASA SIN EXPENSAS EN PB</td>\n",
       "      <td>https://thumbs4.properati.com/8/BluUYiHJLhgIIKufMJMwHtquzhk=/trim/...</td>\n",
       "    </tr>\n",
       "    <tr>\n",
       "      <th>1</th>\n",
       "      <td>sell</td>\n",
       "      <td>apartment</td>\n",
       "      <td>La Plata</td>\n",
       "      <td>|Argentina|Bs.As. G.B.A. Zona Sur|La Plata|</td>\n",
       "      <td>Argentina</td>\n",
       "      <td>Bs.As. G.B.A. Zona Sur</td>\n",
       "      <td>3432039.0</td>\n",
       "      <td>-34.9038831,-57.9643295</td>\n",
       "      <td>-34.903883</td>\n",
       "      <td>-57.964330</td>\n",
       "      <td>...</td>\n",
       "      <td>NaN</td>\n",
       "      <td>NaN</td>\n",
       "      <td>NaN</td>\n",
       "      <td>NaN</td>\n",
       "      <td>NaN</td>\n",
       "      <td>NaN</td>\n",
       "      <td>http://www.properati.com.ar/15bob_venta_departamentos_la-plata_bal...</td>\n",
       "      <td>Venta de departamento en décimo piso al frente, a estrenar. Living...</td>\n",
       "      <td>VENTA Depto 2 dorm. a estrenar 7 e/ 36 y 37</td>\n",
       "      <td>https://thumbs4.properati.com/7/ikpVBu2ztHA7jv45KAKirGL3JM8=/trim/...</td>\n",
       "    </tr>\n",
       "    <tr>\n",
       "      <th>2</th>\n",
       "      <td>sell</td>\n",
       "      <td>apartment</td>\n",
       "      <td>Mataderos</td>\n",
       "      <td>|Argentina|Capital Federal|Mataderos|</td>\n",
       "      <td>Argentina</td>\n",
       "      <td>Capital Federal</td>\n",
       "      <td>3430787.0</td>\n",
       "      <td>-34.6522615,-58.5229825</td>\n",
       "      <td>-34.652262</td>\n",
       "      <td>-58.522982</td>\n",
       "      <td>...</td>\n",
       "      <td>55.0</td>\n",
       "      <td>1309.090909</td>\n",
       "      <td>1309.090909</td>\n",
       "      <td>NaN</td>\n",
       "      <td>NaN</td>\n",
       "      <td>NaN</td>\n",
       "      <td>http://www.properati.com.ar/15bod_venta_departamentos_mataderos_la...</td>\n",
       "      <td>2 AMBIENTES 3ER PISO LATERAL LIVING COMEDOR AMPLIO COCINA SEPARADA...</td>\n",
       "      <td>2 AMB 3ER PISO CON ASCENSOR APTO CREDITO</td>\n",
       "      <td>https://thumbs4.properati.com/5/SXKr34F_IwG3W_Ejwfu6QpW4cH0=/trim/...</td>\n",
       "    </tr>\n",
       "    <tr>\n",
       "      <th>3</th>\n",
       "      <td>sell</td>\n",
       "      <td>PH</td>\n",
       "      <td>Liniers</td>\n",
       "      <td>|Argentina|Capital Federal|Liniers|</td>\n",
       "      <td>Argentina</td>\n",
       "      <td>Capital Federal</td>\n",
       "      <td>3431333.0</td>\n",
       "      <td>-34.6477969,-58.5164244</td>\n",
       "      <td>-34.647797</td>\n",
       "      <td>-58.516424</td>\n",
       "      <td>...</td>\n",
       "      <td>NaN</td>\n",
       "      <td>NaN</td>\n",
       "      <td>NaN</td>\n",
       "      <td>NaN</td>\n",
       "      <td>NaN</td>\n",
       "      <td>NaN</td>\n",
       "      <td>http://www.properati.com.ar/15boh_venta_ph_liniers_patio_g-goffredo</td>\n",
       "      <td>PH 3 ambientes con patio. Hay 3 deptos en lote, 2 en PB y 1 en 1º ...</td>\n",
       "      <td>PH 3 amb. cfte. reciclado</td>\n",
       "      <td>https://thumbs4.properati.com/3/DgIfX-85Mog5SPyleyeQlIypI8w=/trim/...</td>\n",
       "    </tr>\n",
       "  </tbody>\n",
       "</table>\n",
       "<p>4 rows × 25 columns</p>\n",
       "</div>"
      ],
      "text/plain": [
       "  operation property_type place_name  \\\n",
       "0      sell            PH  Mataderos   \n",
       "1      sell     apartment   La Plata   \n",
       "2      sell     apartment  Mataderos   \n",
       "3      sell            PH    Liniers   \n",
       "\n",
       "                       place_with_parent_names country_name  \\\n",
       "0        |Argentina|Capital Federal|Mataderos|    Argentina   \n",
       "1  |Argentina|Bs.As. G.B.A. Zona Sur|La Plata|    Argentina   \n",
       "2        |Argentina|Capital Federal|Mataderos|    Argentina   \n",
       "3          |Argentina|Capital Federal|Liniers|    Argentina   \n",
       "\n",
       "               state_name  geonames_id                  lat-lon        lat  \\\n",
       "0         Capital Federal    3430787.0  -34.6618237,-58.5088387 -34.661824   \n",
       "1  Bs.As. G.B.A. Zona Sur    3432039.0  -34.9038831,-57.9643295 -34.903883   \n",
       "2         Capital Federal    3430787.0  -34.6522615,-58.5229825 -34.652262   \n",
       "3         Capital Federal    3431333.0  -34.6477969,-58.5164244 -34.647797   \n",
       "\n",
       "         lon  ...  surface_covered_in_m2 price_usd_per_m2  price_per_m2  \\\n",
       "0 -58.508839  ...                   40.0      1127.272727   1550.000000   \n",
       "1 -57.964330  ...                    NaN              NaN           NaN   \n",
       "2 -58.522982  ...                   55.0      1309.090909   1309.090909   \n",
       "3 -58.516424  ...                    NaN              NaN           NaN   \n",
       "\n",
       "   floor  rooms  expenses  \\\n",
       "0    NaN    NaN       NaN   \n",
       "1    NaN    NaN       NaN   \n",
       "2    NaN    NaN       NaN   \n",
       "3    NaN    NaN       NaN   \n",
       "\n",
       "                                                           properati_url  \\\n",
       "0  http://www.properati.com.ar/15bo8_venta_ph_mataderos_lavadero_pati...   \n",
       "1  http://www.properati.com.ar/15bob_venta_departamentos_la-plata_bal...   \n",
       "2  http://www.properati.com.ar/15bod_venta_departamentos_mataderos_la...   \n",
       "3    http://www.properati.com.ar/15boh_venta_ph_liniers_patio_g-goffredo   \n",
       "\n",
       "                                                             description  \\\n",
       "0  2 AMBIENTES TIPO CASA PLANTA BAJA POR PASILLO, REFACCIONADO A NUEV...   \n",
       "1  Venta de departamento en décimo piso al frente, a estrenar. Living...   \n",
       "2  2 AMBIENTES 3ER PISO LATERAL LIVING COMEDOR AMPLIO COCINA SEPARADA...   \n",
       "3  PH 3 ambientes con patio. Hay 3 deptos en lote, 2 en PB y 1 en 1º ...   \n",
       "\n",
       "                                                        title  \\\n",
       "0                          2 AMB TIPO CASA SIN EXPENSAS EN PB   \n",
       "1  VENTA Depto 2 dorm. a estrenar 7 e/ 36 y 37                  \n",
       "2                    2 AMB 3ER PISO CON ASCENSOR APTO CREDITO   \n",
       "3                                PH 3 amb. cfte. reciclado      \n",
       "\n",
       "                                                         image_thumbnail  \n",
       "0  https://thumbs4.properati.com/8/BluUYiHJLhgIIKufMJMwHtquzhk=/trim/...  \n",
       "1  https://thumbs4.properati.com/7/ikpVBu2ztHA7jv45KAKirGL3JM8=/trim/...  \n",
       "2  https://thumbs4.properati.com/5/SXKr34F_IwG3W_Ejwfu6QpW4cH0=/trim/...  \n",
       "3  https://thumbs4.properati.com/3/DgIfX-85Mog5SPyleyeQlIypI8w=/trim/...  \n",
       "\n",
       "[4 rows x 25 columns]"
      ]
     },
     "execution_count": 4,
     "metadata": {},
     "output_type": "execute_result"
    }
   ],
   "source": [
    "# Veamos la forma del df\n",
    "pd.set_option(\"display.max_colwidth\",70)\n",
    "data.head(4)"
   ]
  },
  {
   "cell_type": "code",
   "execution_count": 5,
   "id": "43eddb39",
   "metadata": {},
   "outputs": [
    {
     "name": "stdout",
     "output_type": "stream",
     "text": [
      "El dataset tiene 121220 filas y 25 columnas\n"
     ]
    }
   ],
   "source": [
    "print(f'El dataset tiene {data.shape[0]} filas y {data.shape[1]} columnas')"
   ]
  },
  {
   "cell_type": "markdown",
   "id": "195e4b8e",
   "metadata": {},
   "source": [
    "##### Se analizan las columnas"
   ]
  },
  {
   "cell_type": "markdown",
   "id": "5958bdb0",
   "metadata": {},
   "source": [
    "Proporción de no nulos en cada columna"
   ]
  },
  {
   "cell_type": "code",
   "execution_count": 6,
   "id": "cedd8970",
   "metadata": {},
   "outputs": [
    {
     "data": {
      "text/plain": [
       "operation                     1.00\n",
       "property_type                 1.00\n",
       "place_name                    1.00\n",
       "place_with_parent_names       1.00\n",
       "country_name                  1.00\n",
       "state_name                    1.00\n",
       "geonames_id                   0.85\n",
       "lat-lon                       0.57\n",
       "lat                           0.57\n",
       "lon                           0.57\n",
       "price                         0.83\n",
       "currency                      0.83\n",
       "price_aprox_local_currency    0.83\n",
       "price_aprox_usd               0.83\n",
       "surface_total_in_m2           0.68\n",
       "surface_covered_in_m2         0.84\n",
       "price_usd_per_m2              0.57\n",
       "price_per_m2                  0.72\n",
       "floor                         0.07\n",
       "rooms                         0.39\n",
       "expenses                      0.12\n",
       "properati_url                 1.00\n",
       "description                   1.00\n",
       "title                         1.00\n",
       "image_thumbnail               0.97\n",
       "dtype: float64"
      ]
     },
     "execution_count": 6,
     "metadata": {},
     "output_type": "execute_result"
    }
   ],
   "source": [
    "(data.notnull().sum() / data.shape[0]).round(2)"
   ]
  },
  {
   "cell_type": "code",
   "execution_count": 7,
   "id": "7a0d66c3",
   "metadata": {},
   "outputs": [
    {
     "data": {
      "text/plain": [
       "False    121220\n",
       "dtype: int64"
      ]
     },
     "execution_count": 7,
     "metadata": {},
     "output_type": "execute_result"
    }
   ],
   "source": [
    "#Se controla que no hay duplicados por url y title\n",
    "data.duplicated(subset=['properati_url','title']).value_counts()"
   ]
  },
  {
   "cell_type": "code",
   "execution_count": 8,
   "id": "7f6f7eaf",
   "metadata": {},
   "outputs": [],
   "source": [
    "#Se reemplaza los 0.0 por NaN\n",
    "data.replace(0.0,np.NaN,inplace=True)"
   ]
  },
  {
   "cell_type": "markdown",
   "id": "a370a19a",
   "metadata": {},
   "source": [
    "##### Renombramos las columnas y eliminamos las siguientes:\n",
    "\n",
    "operation:  se elimina por ser todos 'sell'\n",
    "\n",
    "country_name: se elimina por ser todos 'Argentina'\n",
    "\n",
    "floor: se elimina, no hay suficientes datos\n",
    "\n",
    "expenses: se elimina, no hay suficientes datos\n",
    "\n",
    "properati_url: se elimina no aporta información\n",
    "\n",
    "image_thumbnail: se elimina no aporta información\n"
   ]
  },
  {
   "cell_type": "code",
   "execution_count": 9,
   "id": "eeda4bd6",
   "metadata": {},
   "outputs": [
    {
     "data": {
      "text/plain": [
       "property_type                  object\n",
       "place_name                     object\n",
       "place_with_parent_names        object\n",
       "state_name                     object\n",
       "geonames_id                   float64\n",
       "lat-lon                        object\n",
       "lat                           float64\n",
       "lon                           float64\n",
       "price                         float64\n",
       "currency                       object\n",
       "price_aprox_local_currency    float64\n",
       "price_aprox_usd               float64\n",
       "surface_total_in_m2           float64\n",
       "surface_covered_in_m2         float64\n",
       "price_usd_per_m2              float64\n",
       "price_per_m2                  float64\n",
       "rooms                         float64\n",
       "description                    object\n",
       "title                          object\n",
       "dtype: object"
      ]
     },
     "execution_count": 9,
     "metadata": {},
     "output_type": "execute_result"
    }
   ],
   "source": [
    "#Eliminamos las columnas que no aportan informacion descriptiva al df\n",
    "\n",
    "data.drop(columns=['operation','country_name','floor','expenses','properati_url','image_thumbnail'],inplace=True)\n",
    "data.dtypes"
   ]
  },
  {
   "cell_type": "code",
   "execution_count": 10,
   "id": "da6fa5b0",
   "metadata": {},
   "outputs": [],
   "source": [
    "#Renombramos las columnas restantes \n",
    "\n",
    "data.rename(columns={ 'property_type': 'Tipo_Propiedad',\n",
    "                    'place_name': 'Barrio',\n",
    "                    'place_with_parent_names': 'Ubicacion_Completa',\n",
    "                    'state_name': 'Provincia',\n",
    "                    'geonames_id': 'GeoNames_ID',\n",
    "                    'lat-lon': 'Latitud_Longitud',\n",
    "                    'lat': 'Latitud',\n",
    "                    'lon': 'Longitud',\n",
    "                    'price': 'Precio',\n",
    "                    'currency': 'Moneda',\n",
    "                    'price_aprox_local_currency': 'Precio_ARS',\n",
    "                    'price_aprox_usd': 'Precio_Dolares',\n",
    "                    'surface_total_in_m2': 'Metros_Totales',\n",
    "                    'surface_covered_in_m2': 'Metros_Cubiertos',\n",
    "                    'price_usd_per_m2': 'Precio_m2_Dls',\n",
    "                    'price_per_m2': 'Precio_m2',\n",
    "                    'rooms': 'Cantidad_Ambientes',\n",
    "                    'description': 'Descripcion',\n",
    "                    'title': 'Titulo'}, inplace=True)"
   ]
  },
  {
   "cell_type": "markdown",
   "id": "d710acf2",
   "metadata": {},
   "source": [
    "##### Tipos de propiedades en el dataset"
   ]
  },
  {
   "cell_type": "code",
   "execution_count": 11,
   "id": "2500eed1",
   "metadata": {},
   "outputs": [
    {
     "data": {
      "text/plain": [
       "apartment    71065\n",
       "house        40268\n",
       "PH            5751\n",
       "store         4136\n",
       "Name: Tipo_Propiedad, dtype: int64"
      ]
     },
     "execution_count": 11,
     "metadata": {},
     "output_type": "execute_result"
    }
   ],
   "source": [
    "data[\"Tipo_Propiedad\"].value_counts()"
   ]
  },
  {
   "cell_type": "markdown",
   "id": "85d5aa75",
   "metadata": {},
   "source": [
    "##### Gráfica con los tipos de propiedades y sus cantidades"
   ]
  },
  {
   "cell_type": "code",
   "execution_count": 12,
   "id": "5d345820",
   "metadata": {},
   "outputs": [
    {
     "data": {
      "image/png": "[encoded data removed]",
      "text/plain": [
       "<Figure size 720x360 with 1 Axes>"
      ]
     },
     "metadata": {},
     "output_type": "display_data"
    }
   ],
   "source": [
    "with sns.axes_style('white'):\n",
    "    g = sns.catplot(x = \"Tipo_Propiedad\", data=data, aspect=2, kind=\"count\")\n",
    "    g.set_xticklabels(step=1)"
   ]
  },
  {
   "cell_type": "markdown",
   "id": "a4c7c726",
   "metadata": {},
   "source": [
    "##### Lugares de donde son las propiedades"
   ]
  },
  {
   "cell_type": "code",
   "execution_count": 13,
   "id": "2feeab98",
   "metadata": {},
   "outputs": [
    {
     "data": {
      "image/png": "[encoded data removed]",
      "text/plain": [
       "<Figure size 2160x2160 with 1 Axes>"
      ]
     },
     "metadata": {
      "needs_background": "light"
     },
     "output_type": "display_data"
    }
   ],
   "source": [
    "fig= plt.subplots(figsize=(30,30),constrained_layout=True)\n",
    "grid = gridspec.GridSpec(2, 1, height_ratios=[1, 3])\n",
    "\n",
    "ax1=plt.subplot(grid[0])\n",
    "sns.countplot(data=data,y=\"Provincia\",order=data[\"Provincia\"].value_counts().index,ax=ax1,color=\"g\")\n",
    "\n",
    "ax1.set_yticklabels(ax1.get_yticklabels(),fontsize=\"medium\")\n",
    "ax1.set_title(\"Distribución según la Provincia.\", fontsize= 'large')\n",
    "\n",
    "\n",
    "plt.show()"
   ]
  },
  {
   "cell_type": "markdown",
   "id": "9d20d260",
   "metadata": {},
   "source": [
    "## Procesamiento individual de las columnas del DataSet\n",
    "\n",
    "Procedimiento que se realiza en las columnas de interés:\n",
    "\n",
    "1- Se filtran los outliers\n",
    "\n",
    "2- Se buscan string de interés con regex para rellenar datos faltantes\n",
    "\n",
    "3- Se infieren datos según la columna\n",
    "\n",
    "4- Se elimina o se deja la columna  "
   ]
  },
  {
   "cell_type": "markdown",
   "id": "df56adf0",
   "metadata": {},
   "source": [
    "#### Análisis de la columna Cantidad_Ambientes"
   ]
  },
  {
   "cell_type": "markdown",
   "id": "7cddefa9",
   "metadata": {},
   "source": [
    "1- Se analiza la descripción y el título primero con regex porque la columna tiene 61% de nulos.\n",
    "\n",
    "2- Se decide eliminar la columna ya que se consigue disminuir la cantidad de nulos hasta un 40%."
   ]
  },
  {
   "cell_type": "code",
   "execution_count": 14,
   "id": "f8604d85",
   "metadata": {},
   "outputs": [],
   "source": [
    "regex='\\d (A|a)(M|m)(B|b)(ientes)?'\n",
    "regex_compilado = re.compile(regex)\n",
    "\n",
    "#Funcion regex que extrae los ambientes y los guarda en ambientes\n",
    "def regex_ambientes(columna):\n",
    "    regex_ambientes = data[columna].apply(lambda x : x if x is np.NaN else regex_compilado.search(x))\n",
    "    regex_ambientes = regex_ambientes.apply(lambda x : np.NaN if x is np.NaN or x is None else x[0].split()[0])\n",
    "    regex_ambientes = regex_ambientes.astype('float')\n",
    "       \n",
    "    mask_data = data.Cantidad_Ambientes.isnull() \n",
    "    mask_regex_ambientes = regex_ambientes.notnull()\n",
    "    mask_data = np.logical_and(mask_regex_ambientes,mask_data)\n",
    "    data.Cantidad_Ambientes[mask_data] = regex_ambientes[mask_data]\n",
    "   \n",
    "    return mask_data"
   ]
  },
  {
   "cell_type": "code",
   "execution_count": 15,
   "id": "b3961a9d",
   "metadata": {},
   "outputs": [],
   "source": [
    "mask_description_apply = regex_ambientes('Descripcion')\n",
    "mask_title_apply = regex_ambientes('Titulo')"
   ]
  },
  {
   "cell_type": "code",
   "execution_count": 16,
   "id": "9cae0983",
   "metadata": {},
   "outputs": [
    {
     "data": {
      "text/html": [
       "<div>\n",
       "<style scoped>\n",
       "    .dataframe tbody tr th:only-of-type {\n",
       "        vertical-align: middle;\n",
       "    }\n",
       "\n",
       "    .dataframe tbody tr th {\n",
       "        vertical-align: top;\n",
       "    }\n",
       "\n",
       "    .dataframe thead th {\n",
       "        text-align: right;\n",
       "    }\n",
       "</style>\n",
       "<table border=\"1\" class=\"dataframe\">\n",
       "  <thead>\n",
       "    <tr style=\"text-align: right;\">\n",
       "      <th></th>\n",
       "      <th>rooms</th>\n",
       "      <th>Cantidad_Ambientes</th>\n",
       "      <th>Titulo</th>\n",
       "      <th>Descripcion</th>\n",
       "    </tr>\n",
       "  </thead>\n",
       "  <tbody>\n",
       "    <tr>\n",
       "      <th>31496</th>\n",
       "      <td>NaN</td>\n",
       "      <td>3.0</td>\n",
       "      <td>CASA EN VENTA</td>\n",
       "      <td>Venta de Casa tipo PH 3 AMBIENTES, Quilmes OestePH con cochera sob...</td>\n",
       "    </tr>\n",
       "    <tr>\n",
       "      <th>90709</th>\n",
       "      <td>NaN</td>\n",
       "      <td>3.0</td>\n",
       "      <td>Departamento - 3 Ambientes - San Telmo</td>\n",
       "      <td>En una Muy Interesante Ubicacion Barrial: A Metros del cruce de la...</td>\n",
       "    </tr>\n",
       "    <tr>\n",
       "      <th>72937</th>\n",
       "      <td>NaN</td>\n",
       "      <td>2.0</td>\n",
       "      <td>Departamento - Barrio Norte</td>\n",
       "      <td>Lindisino Dto de 2 amb a la Vta. Barrio Norte a metros de Subte D ...</td>\n",
       "    </tr>\n",
       "    <tr>\n",
       "      <th>51418</th>\n",
       "      <td>NaN</td>\n",
       "      <td>1.0</td>\n",
       "      <td>DEPARTAMENTO EN VENTA</td>\n",
       "      <td>Venta de Departamento 1 AMBIENTE en Posadas. Excelentísima ubicaci...</td>\n",
       "    </tr>\n",
       "    <tr>\n",
       "      <th>850</th>\n",
       "      <td>NaN</td>\n",
       "      <td>5.0</td>\n",
       "      <td>Casa 184m² con 3 Plantas en Haedo 2200, San Isidro, Beccar, por U$...</td>\n",
       "      <td>SimpÃ¡tico Triplex de 5 Ambientes ubicado en el complejo Jardines ...</td>\n",
       "    </tr>\n",
       "  </tbody>\n",
       "</table>\n",
       "</div>"
      ],
      "text/plain": [
       "       rooms  Cantidad_Ambientes  \\\n",
       "31496    NaN                 3.0   \n",
       "90709    NaN                 3.0   \n",
       "72937    NaN                 2.0   \n",
       "51418    NaN                 1.0   \n",
       "850      NaN                 5.0   \n",
       "\n",
       "                                                                      Titulo  \\\n",
       "31496                                                          CASA EN VENTA   \n",
       "90709                                 Departamento - 3 Ambientes - San Telmo   \n",
       "72937                                            Departamento - Barrio Norte   \n",
       "51418                                                  DEPARTAMENTO EN VENTA   \n",
       "850    Casa 184m² con 3 Plantas en Haedo 2200, San Isidro, Beccar, por U$...   \n",
       "\n",
       "                                                                 Descripcion  \n",
       "31496  Venta de Casa tipo PH 3 AMBIENTES, Quilmes OestePH con cochera sob...  \n",
       "90709  En una Muy Interesante Ubicacion Barrial: A Metros del cruce de la...  \n",
       "72937  Lindisino Dto de 2 amb a la Vta. Barrio Norte a metros de Subte D ...  \n",
       "51418  Venta de Departamento 1 AMBIENTE en Posadas. Excelentísima ubicaci...  \n",
       "850    SimpÃ¡tico Triplex de 5 Ambientes ubicado en el complejo Jardines ...  "
      ]
     },
     "execution_count": 16,
     "metadata": {},
     "output_type": "execute_result"
    }
   ],
   "source": [
    "#Mostramos lo que cambio la regex en el dataset\n",
    "pd.concat([data_original.loc[mask_description_apply,['rooms']],data.loc[mask_description_apply,['Cantidad_Ambientes','Titulo','Descripcion']]],axis=1).sample(5)"
   ]
  },
  {
   "cell_type": "code",
   "execution_count": 17,
   "id": "b173f4f0",
   "metadata": {},
   "outputs": [
    {
     "data": {
      "text/html": [
       "<div>\n",
       "<style scoped>\n",
       "    .dataframe tbody tr th:only-of-type {\n",
       "        vertical-align: middle;\n",
       "    }\n",
       "\n",
       "    .dataframe tbody tr th {\n",
       "        vertical-align: top;\n",
       "    }\n",
       "\n",
       "    .dataframe thead th {\n",
       "        text-align: right;\n",
       "    }\n",
       "</style>\n",
       "<table border=\"1\" class=\"dataframe\">\n",
       "  <thead>\n",
       "    <tr style=\"text-align: right;\">\n",
       "      <th></th>\n",
       "      <th>rooms</th>\n",
       "      <th>Cantidad_Ambientes</th>\n",
       "      <th>Titulo</th>\n",
       "      <th>Descripcion</th>\n",
       "    </tr>\n",
       "  </thead>\n",
       "  <tbody>\n",
       "    <tr>\n",
       "      <th>18476</th>\n",
       "      <td>NaN</td>\n",
       "      <td>3.0</td>\n",
       "      <td>VENTA 3 AMBIENTES CON TERRAZA</td>\n",
       "      <td>Hermoso departamento reciclado. Externo con balcón. Cocina con bar...</td>\n",
       "    </tr>\n",
       "    <tr>\n",
       "      <th>93589</th>\n",
       "      <td>NaN</td>\n",
       "      <td>2.0</td>\n",
       "      <td>Lumiere Puerto Madero - Olga Cossettini - 2 Ambientes con cochera</td>\n",
       "      <td>UNIDADES PRÓXIMAS A ENTREGARSE Hermoso departamento dos ambientes....</td>\n",
       "    </tr>\n",
       "    <tr>\n",
       "      <th>92971</th>\n",
       "      <td>NaN</td>\n",
       "      <td>3.0</td>\n",
       "      <td>CHALET 3 AMBIENTES EN HAEDO</td>\n",
       "      <td>EXCELENTE CHALET EN HAEDO - LOTE DE 10 X 20CHALET EN DOS PLANTAS- ...</td>\n",
       "    </tr>\n",
       "    <tr>\n",
       "      <th>89878</th>\n",
       "      <td>NaN</td>\n",
       "      <td>3.0</td>\n",
       "      <td>Espectacular 3 ambientes en venta en el condominio YOO NORDELTA co...</td>\n",
       "      <td>Ubicado en la mejor esquina del edificio con toda la vista plena a...</td>\n",
       "    </tr>\n",
       "    <tr>\n",
       "      <th>55214</th>\n",
       "      <td>NaN</td>\n",
       "      <td>4.0</td>\n",
       "      <td>Casa de 4 ambientes en Venta en Paternal</td>\n",
       "      <td>excelente casa en Flores Norte a metros de Av. Gaona 3 cuadras de ...</td>\n",
       "    </tr>\n",
       "  </tbody>\n",
       "</table>\n",
       "</div>"
      ],
      "text/plain": [
       "       rooms  Cantidad_Ambientes  \\\n",
       "18476    NaN                 3.0   \n",
       "93589    NaN                 2.0   \n",
       "92971    NaN                 3.0   \n",
       "89878    NaN                 3.0   \n",
       "55214    NaN                 4.0   \n",
       "\n",
       "                                                                      Titulo  \\\n",
       "18476                                 VENTA 3 AMBIENTES CON TERRAZA            \n",
       "93589      Lumiere Puerto Madero - Olga Cossettini - 2 Ambientes con cochera   \n",
       "92971                                            CHALET 3 AMBIENTES EN HAEDO   \n",
       "89878  Espectacular 3 ambientes en venta en el condominio YOO NORDELTA co...   \n",
       "55214                               Casa de 4 ambientes en Venta en Paternal   \n",
       "\n",
       "                                                                 Descripcion  \n",
       "18476  Hermoso departamento reciclado. Externo con balcón. Cocina con bar...  \n",
       "93589  UNIDADES PRÓXIMAS A ENTREGARSE Hermoso departamento dos ambientes....  \n",
       "92971  EXCELENTE CHALET EN HAEDO - LOTE DE 10 X 20CHALET EN DOS PLANTAS- ...  \n",
       "89878  Ubicado en la mejor esquina del edificio con toda la vista plena a...  \n",
       "55214  excelente casa en Flores Norte a metros de Av. Gaona 3 cuadras de ...  "
      ]
     },
     "execution_count": 17,
     "metadata": {},
     "output_type": "execute_result"
    }
   ],
   "source": [
    "pd.concat([data_original.loc[mask_title_apply,['rooms']],data.loc[mask_title_apply,['Cantidad_Ambientes','Titulo','Descripcion']]],axis=1).sample(5)"
   ]
  },
  {
   "cell_type": "markdown",
   "id": "57f2a192",
   "metadata": {},
   "source": [
    "Analizamos en que proporción se completó la columna ambientes"
   ]
  },
  {
   "cell_type": "code",
   "execution_count": 18,
   "id": "586ea4b4",
   "metadata": {},
   "outputs": [
    {
     "name": "stdout",
     "output_type": "stream",
     "text": [
      "Proporción de nulos data original: 0.61\n",
      "Proporción de nulos data limpio: 0.43\n"
     ]
    }
   ],
   "source": [
    "print('Proporción de nulos data original:',(data_original['rooms'].isnull().sum() / data_original.shape[0]).round(2))\n",
    "print('Proporción de nulos data limpio:',(data['Cantidad_Ambientes'].isnull().sum() / data.shape[0]).round(2))"
   ]
  },
  {
   "cell_type": "code",
   "execution_count": 19,
   "id": "1914e008",
   "metadata": {},
   "outputs": [
    {
     "data": {
      "text/plain": [
       "<AxesSubplot:xlabel='Tipo_Propiedad', ylabel='Cantidad_Ambientes'>"
      ]
     },
     "execution_count": 19,
     "metadata": {},
     "output_type": "execute_result"
    },
    {
     "data": {
      "image/png": "[encoded data removed]",
      "text/plain": [
       "<Figure size 432x288 with 1 Axes>"
      ]
     },
     "metadata": {
      "needs_background": "light"
     },
     "output_type": "display_data"
    }
   ],
   "source": [
    "# Veamoslo graficamente\n",
    "sns.boxplot(y='Cantidad_Ambientes',x='Tipo_Propiedad',data=data)"
   ]
  },
  {
   "cell_type": "markdown",
   "id": "0b4a83b2",
   "metadata": {},
   "source": [
    "Se decide eliminar la columna ya que hay demasidos valores que son nulos."
   ]
  },
  {
   "cell_type": "code",
   "execution_count": 20,
   "id": "d893976c",
   "metadata": {},
   "outputs": [],
   "source": [
    "#Se elimina la columna Cantidad_Ambientes por falta de información\n",
    "data.drop(columns=['Cantidad_Ambientes'],inplace=True)"
   ]
  },
  {
   "cell_type": "code",
   "execution_count": 21,
   "id": "402042e1",
   "metadata": {},
   "outputs": [
    {
     "data": {
      "text/plain": [
       "Index(['Tipo_Propiedad', 'Barrio', 'Ubicacion_Completa', 'Provincia',\n",
       "       'GeoNames_ID', 'Latitud_Longitud', 'Latitud', 'Longitud', 'Precio',\n",
       "       'Moneda', 'Precio_ARS', 'Precio_Dolares', 'Metros_Totales',\n",
       "       'Metros_Cubiertos', 'Precio_m2_Dls', 'Precio_m2', 'Descripcion',\n",
       "       'Titulo'],\n",
       "      dtype='object')"
      ]
     },
     "execution_count": 21,
     "metadata": {},
     "output_type": "execute_result"
    }
   ],
   "source": [
    "data.columns"
   ]
  },
  {
   "cell_type": "markdown",
   "id": "2e379261",
   "metadata": {},
   "source": [
    "#### Analizamos amenities pileta y balcón"
   ]
  },
  {
   "cell_type": "markdown",
   "id": "64d5f182",
   "metadata": {},
   "source": [
    "1- Se analiza la descripción con regex y se busca si la propiedad tiene pileta o balcón.\n",
    "\n",
    "2- Se crea una columna 'Amenities_Pileta' y otra 'Amenities_Balcon' "
   ]
  },
  {
   "cell_type": "code",
   "execution_count": 22,
   "id": "0a88668d",
   "metadata": {},
   "outputs": [
    {
     "data": {
      "text/html": [
       "<div>\n",
       "<style scoped>\n",
       "    .dataframe tbody tr th:only-of-type {\n",
       "        vertical-align: middle;\n",
       "    }\n",
       "\n",
       "    .dataframe tbody tr th {\n",
       "        vertical-align: top;\n",
       "    }\n",
       "\n",
       "    .dataframe thead th {\n",
       "        text-align: right;\n",
       "    }\n",
       "</style>\n",
       "<table border=\"1\" class=\"dataframe\">\n",
       "  <thead>\n",
       "    <tr style=\"text-align: right;\">\n",
       "      <th></th>\n",
       "      <th>Descripcion</th>\n",
       "      <th>Amenities_Pileta</th>\n",
       "    </tr>\n",
       "  </thead>\n",
       "  <tbody>\n",
       "    <tr>\n",
       "      <th>7</th>\n",
       "      <td>EXCELENTE MONOAMBIENTE A ESTRENAR AMPLIO SUPER LUMINOSO ...PISO AL...</td>\n",
       "      <td>PILETA</td>\n",
       "    </tr>\n",
       "    <tr>\n",
       "      <th>8</th>\n",
       "      <td>EXCELENTE DOS AMBIENTES  ESTRENAR AMPLIO SUPER LUMINOSO ...PISO AL...</td>\n",
       "      <td>PILETA</td>\n",
       "    </tr>\n",
       "    <tr>\n",
       "      <th>23</th>\n",
       "      <td>Hermoso departamento, ubicado en la calle Almirante Brown, a metro...</td>\n",
       "      <td>pileta</td>\n",
       "    </tr>\n",
       "    <tr>\n",
       "      <th>30</th>\n",
       "      <td>Muy linda casa , toda en planta baja, doble pared de 30, ladrillo ...</td>\n",
       "      <td>pileta</td>\n",
       "    </tr>\n",
       "    <tr>\n",
       "      <th>36</th>\n",
       "      <td>Casa en Pilar centro ,a pocas cuadras de la plaza principal de Pil...</td>\n",
       "      <td>pileta</td>\n",
       "    </tr>\n",
       "    <tr>\n",
       "      <th>...</th>\n",
       "      <td>...</td>\n",
       "      <td>...</td>\n",
       "    </tr>\n",
       "    <tr>\n",
       "      <th>121211</th>\n",
       "      <td>Excelente departamento de categoría con vistas parciales al Río en...</td>\n",
       "      <td>pileta</td>\n",
       "    </tr>\n",
       "    <tr>\n",
       "      <th>121212</th>\n",
       "      <td>ESPECTACULAR CASA ESTILO RACIONALISTA EN CALLE CORTADA!!! TIENE UN...</td>\n",
       "      <td>pileta</td>\n",
       "    </tr>\n",
       "    <tr>\n",
       "      <th>121213</th>\n",
       "      <td>EXCELENTE casa en Martinez. Inmejorable ubicaicón!! De Av. Liberta...</td>\n",
       "      <td>pileta</td>\n",
       "    </tr>\n",
       "    <tr>\n",
       "      <th>121215</th>\n",
       "      <td>TORRE FORUM ALCORTA - MÁXIMA CATEGORÍA.Impecable Departamento.Livi...</td>\n",
       "      <td>pileta</td>\n",
       "    </tr>\n",
       "    <tr>\n",
       "      <th>121216</th>\n",
       "      <td>Excelente e impecable casa en Venta en Las Lomas de San Isidro.Con...</td>\n",
       "      <td>pileta</td>\n",
       "    </tr>\n",
       "  </tbody>\n",
       "</table>\n",
       "<p>19040 rows × 2 columns</p>\n",
       "</div>"
      ],
      "text/plain": [
       "                                                                  Descripcion  \\\n",
       "7       EXCELENTE MONOAMBIENTE A ESTRENAR AMPLIO SUPER LUMINOSO ...PISO AL...   \n",
       "8       EXCELENTE DOS AMBIENTES  ESTRENAR AMPLIO SUPER LUMINOSO ...PISO AL...   \n",
       "23      Hermoso departamento, ubicado en la calle Almirante Brown, a metro...   \n",
       "30      Muy linda casa , toda en planta baja, doble pared de 30, ladrillo ...   \n",
       "36      Casa en Pilar centro ,a pocas cuadras de la plaza principal de Pil...   \n",
       "...                                                                       ...   \n",
       "121211  Excelente departamento de categoría con vistas parciales al Río en...   \n",
       "121212  ESPECTACULAR CASA ESTILO RACIONALISTA EN CALLE CORTADA!!! TIENE UN...   \n",
       "121213  EXCELENTE casa en Martinez. Inmejorable ubicaicón!! De Av. Liberta...   \n",
       "121215  TORRE FORUM ALCORTA - MÁXIMA CATEGORÍA.Impecable Departamento.Livi...   \n",
       "121216  Excelente e impecable casa en Venta en Las Lomas de San Isidro.Con...   \n",
       "\n",
       "       Amenities_Pileta  \n",
       "7                PILETA  \n",
       "8                PILETA  \n",
       "23               pileta  \n",
       "30               pileta  \n",
       "36               pileta  \n",
       "...                 ...  \n",
       "121211           pileta  \n",
       "121212           pileta  \n",
       "121213           pileta  \n",
       "121215           pileta  \n",
       "121216           pileta  \n",
       "\n",
       "[19040 rows x 2 columns]"
      ]
     },
     "execution_count": 22,
     "metadata": {},
     "output_type": "execute_result"
    }
   ],
   "source": [
    "#buscar los que tienen pileta en la columna de descripción y crear una nueva columna de amenities\n",
    "\n",
    "pattern_pileta = \"(pileta|Pileta|PILETA)\"\n",
    "pattern_pileta_compilado = re.compile(pattern_pileta)\n",
    "match_con_pileta = data.Descripcion.apply(lambda x: x if x is np.NaN else pattern_pileta_compilado.search(x))\n",
    "\n",
    "mask_data_pileta_match_notnull = match_con_pileta.notnull()\n",
    "data.loc[mask_data_pileta_match_notnull, \"Amenities_Pileta\"] = match_con_pileta[mask_data_pileta_match_notnull].apply(lambda x: x.group(0))\n",
    "\n",
    "data.loc[mask_data_pileta_match_notnull, [\"Descripcion\", \"Amenities_Pileta\"]]"
   ]
  },
  {
   "cell_type": "code",
   "execution_count": 23,
   "id": "025f891d",
   "metadata": {},
   "outputs": [
    {
     "data": {
      "text/html": [
       "<div>\n",
       "<style scoped>\n",
       "    .dataframe tbody tr th:only-of-type {\n",
       "        vertical-align: middle;\n",
       "    }\n",
       "\n",
       "    .dataframe tbody tr th {\n",
       "        vertical-align: top;\n",
       "    }\n",
       "\n",
       "    .dataframe thead th {\n",
       "        text-align: right;\n",
       "    }\n",
       "</style>\n",
       "<table border=\"1\" class=\"dataframe\">\n",
       "  <thead>\n",
       "    <tr style=\"text-align: right;\">\n",
       "      <th></th>\n",
       "      <th>Amenities_Pileta</th>\n",
       "      <th>Descripcion</th>\n",
       "    </tr>\n",
       "  </thead>\n",
       "  <tbody>\n",
       "    <tr>\n",
       "      <th>65093</th>\n",
       "      <td>pileta</td>\n",
       "      <td>Te invitamos a conocer: Antigua CerveceríaFechas de entrega 3 prim...</td>\n",
       "    </tr>\n",
       "    <tr>\n",
       "      <th>62320</th>\n",
       "      <td>no tiene</td>\n",
       "      <td>Nuevo y moderno!SUM y Gimnasio!Gran nivel de amenities! Cocheras a...</td>\n",
       "    </tr>\n",
       "    <tr>\n",
       "      <th>51308</th>\n",
       "      <td>no tiene</td>\n",
       "      <td>VENTA DE DEPARTAMENTO EN EDIFICIO A ESTRENAR PISO 1º DPTO \"B\" A FR...</td>\n",
       "    </tr>\n",
       "    <tr>\n",
       "      <th>21045</th>\n",
       "      <td>no tiene</td>\n",
       "      <td>Corredor Responsable: Ariel Champanier - CUCICBA 4330Contacto: Fab...</td>\n",
       "    </tr>\n",
       "    <tr>\n",
       "      <th>5100</th>\n",
       "      <td>no tiene</td>\n",
       "      <td>CODIGO: 719-1542 ubicado en: sarmiento 4649 -  Publicado por: CARR...</td>\n",
       "    </tr>\n",
       "  </tbody>\n",
       "</table>\n",
       "</div>"
      ],
      "text/plain": [
       "      Amenities_Pileta  \\\n",
       "65093           pileta   \n",
       "62320         no tiene   \n",
       "51308         no tiene   \n",
       "21045         no tiene   \n",
       "5100          no tiene   \n",
       "\n",
       "                                                                 Descripcion  \n",
       "65093  Te invitamos a conocer: Antigua CerveceríaFechas de entrega 3 prim...  \n",
       "62320  Nuevo y moderno!SUM y Gimnasio!Gran nivel de amenities! Cocheras a...  \n",
       "51308  VENTA DE DEPARTAMENTO EN EDIFICIO A ESTRENAR PISO 1º DPTO \"B\" A FR...  \n",
       "21045  Corredor Responsable: Ariel Champanier - CUCICBA 4330Contacto: Fab...  \n",
       "5100   CODIGO: 719-1542 ubicado en: sarmiento 4649 -  Publicado por: CARR...  "
      ]
     },
     "execution_count": 23,
     "metadata": {},
     "output_type": "execute_result"
    }
   ],
   "source": [
    "Columna_Amenities_Pileta = data.loc[:, 'Amenities_Pileta']\n",
    "mask_pileta_nulls = Columna_Amenities_Pileta.isnull()\n",
    "data.loc[mask_pileta_nulls,'Amenities_Pileta'] = 'no tiene'\n",
    "\n",
    "cadena_reemplazo = \"pileta\"\n",
    "data[\"Amenities_Pileta\"] = data[\"Amenities_Pileta\"].apply(lambda x: pattern_pileta_compilado.sub(cadena_reemplazo, x))\n",
    "data.loc[:,['Amenities_Pileta','Descripcion']].sample(5)"
   ]
  },
  {
   "cell_type": "code",
   "execution_count": 24,
   "id": "270ec047",
   "metadata": {},
   "outputs": [
    {
     "data": {
      "text/html": [
       "<div>\n",
       "<style scoped>\n",
       "    .dataframe tbody tr th:only-of-type {\n",
       "        vertical-align: middle;\n",
       "    }\n",
       "\n",
       "    .dataframe tbody tr th {\n",
       "        vertical-align: top;\n",
       "    }\n",
       "\n",
       "    .dataframe thead th {\n",
       "        text-align: right;\n",
       "    }\n",
       "</style>\n",
       "<table border=\"1\" class=\"dataframe\">\n",
       "  <thead>\n",
       "    <tr style=\"text-align: right;\">\n",
       "      <th></th>\n",
       "      <th>Amenities_Balcon</th>\n",
       "      <th>Descripcion</th>\n",
       "    </tr>\n",
       "  </thead>\n",
       "  <tbody>\n",
       "    <tr>\n",
       "      <th>0</th>\n",
       "      <td>no tiene</td>\n",
       "      <td>2 AMBIENTES TIPO CASA PLANTA BAJA POR PASILLO, REFACCIONADO A NUEV...</td>\n",
       "    </tr>\n",
       "    <tr>\n",
       "      <th>1</th>\n",
       "      <td>balcon</td>\n",
       "      <td>Venta de departamento en décimo piso al frente, a estrenar. Living...</td>\n",
       "    </tr>\n",
       "    <tr>\n",
       "      <th>2</th>\n",
       "      <td>no tiene</td>\n",
       "      <td>2 AMBIENTES 3ER PISO LATERAL LIVING COMEDOR AMPLIO COCINA SEPARADA...</td>\n",
       "    </tr>\n",
       "    <tr>\n",
       "      <th>3</th>\n",
       "      <td>no tiene</td>\n",
       "      <td>PH 3 ambientes con patio. Hay 3 deptos en lote, 2 en PB y 1 en 1º ...</td>\n",
       "    </tr>\n",
       "    <tr>\n",
       "      <th>4</th>\n",
       "      <td>no tiene</td>\n",
       "      <td>DEPARTAMENTO CON FANTÁSTICA ILUMINACIÓN NATURAL,  AL CONTRAFRENTE,...</td>\n",
       "    </tr>\n",
       "  </tbody>\n",
       "</table>\n",
       "</div>"
      ],
      "text/plain": [
       "  Amenities_Balcon  \\\n",
       "0         no tiene   \n",
       "1           balcon   \n",
       "2         no tiene   \n",
       "3         no tiene   \n",
       "4         no tiene   \n",
       "\n",
       "                                                             Descripcion  \n",
       "0  2 AMBIENTES TIPO CASA PLANTA BAJA POR PASILLO, REFACCIONADO A NUEV...  \n",
       "1  Venta de departamento en décimo piso al frente, a estrenar. Living...  \n",
       "2  2 AMBIENTES 3ER PISO LATERAL LIVING COMEDOR AMPLIO COCINA SEPARADA...  \n",
       "3  PH 3 ambientes con patio. Hay 3 deptos en lote, 2 en PB y 1 en 1º ...  \n",
       "4  DEPARTAMENTO CON FANTÁSTICA ILUMINACIÓN NATURAL,  AL CONTRAFRENTE,...  "
      ]
     },
     "execution_count": 24,
     "metadata": {},
     "output_type": "execute_result"
    }
   ],
   "source": [
    "#Analizar si tiene balcón\n",
    "\n",
    "pattern_balcon = \"(Balcon|Balcón|balcon|BALCON)\"\n",
    "pattern_balcon_compilado = re.compile(pattern_balcon)\n",
    "match_con_balcon = data.Descripcion.apply(lambda x: x if x is np.NaN else pattern_balcon_compilado.search(x))\n",
    "\n",
    "mask_data_balcon_match_notnull = match_con_balcon.notnull()\n",
    "data.loc[mask_data_balcon_match_notnull, \"Amenities_Balcon\"] = match_con_balcon[mask_data_balcon_match_notnull].apply(lambda x: x.group(0))\n",
    "\n",
    "data.loc[mask_data_balcon_match_notnull, [\"Descripcion\", \"Amenities_Balcon\"]]\n",
    "\n",
    "Columna_Amenities_balcon = data.loc[:, 'Amenities_Balcon']\n",
    "\n",
    "mask_balcon_nulls = Columna_Amenities_balcon.isnull()\n",
    "\n",
    "data.loc[mask_balcon_nulls,'Amenities_Balcon'] = 'no tiene'\n",
    "\n",
    "cadena_reemplazo = \"balcon\"\n",
    "data[\"Amenities_Balcon\"] = data[\"Amenities_Balcon\"].apply(lambda x: pattern_balcon_compilado.sub(cadena_reemplazo, x))\n",
    "data.loc[:,['Amenities_Balcon','Descripcion']].head(5)"
   ]
  },
  {
   "cell_type": "code",
   "execution_count": 25,
   "id": "be8ce794",
   "metadata": {},
   "outputs": [
    {
     "name": "stdout",
     "output_type": "stream",
     "text": [
      "Propiedades que tienen en la descripción Balcón: \n",
      " no tiene    98550\n",
      "balcon      22670\n",
      "Name: Amenities_Balcon, dtype: int64\n",
      "\n",
      "Propiedades que tienen en la descripción Pileta: \n",
      " no tiene    102180\n",
      "pileta       19040\n",
      "Name: Amenities_Pileta, dtype: int64\n"
     ]
    }
   ],
   "source": [
    "print('Propiedades que tienen en la descripción Balcón: \\n',data.Amenities_Balcon.value_counts())\n",
    "print('\\nPropiedades que tienen en la descripción Pileta: \\n',data.Amenities_Pileta.value_counts())"
   ]
  },
  {
   "cell_type": "markdown",
   "id": "dc3407a5",
   "metadata": {},
   "source": [
    "### Analizamos las columnas de superficie total y cubierta"
   ]
  },
  {
   "cell_type": "markdown",
   "id": "bb8b1a46",
   "metadata": {},
   "source": [
    "1- Filtramos outliers discriminado por tipo de propiedad y que se no se encuentren contenidos dentro de 2 desvios estandar.\n",
    "\n",
    "2- Buscamos con regex en la descripción los metros cuadrados de aquellas propiedades que esten incompletas.\n",
    "\n",
    "3- Se verifica que la superficie total se mayor o igual a la superficie cubierta, si no se cumple se reemplaza la superficie cubierta con la total.\n",
    "\n",
    "4 - Si una superfice es NaN se completa con la otra."
   ]
  },
  {
   "cell_type": "code",
   "execution_count": 26,
   "id": "3df137d4",
   "metadata": {},
   "outputs": [
    {
     "data": {
      "text/plain": [
       "<AxesSubplot:title={'center':'Metros Cubiertos'}, xlabel='Tipo_Propiedad', ylabel='Metros_Cubiertos'>"
      ]
     },
     "execution_count": 26,
     "metadata": {},
     "output_type": "execute_result"
    },
    {
     "data": {
      "image/png": "[encoded data removed]",
      "text/plain": [
       "<Figure size 1080x360 with 2 Axes>"
      ]
     },
     "metadata": {
      "needs_background": "light"
     },
     "output_type": "display_data"
    }
   ],
   "source": [
    "#Se analizan graficamente los outliers\n",
    "fig, axes = plt.subplots(1, 2, figsize=(15, 5), sharey=True)\n",
    "fig.suptitle('Metros Totales y Metros Cubiertos')\n",
    "\n",
    "axes[0].set_title('Metros Totales')\n",
    "sns.boxplot(ax=axes[0],y='Metros_Totales',x='Tipo_Propiedad',data=data)\n",
    "\n",
    "axes[1].set_title('Metros Cubiertos')\n",
    "sns.boxplot(ax=axes[1],y='Metros_Cubiertos',x='Tipo_Propiedad',data=data)"
   ]
  },
  {
   "cell_type": "code",
   "execution_count": 27,
   "id": "2fc7d167",
   "metadata": {},
   "outputs": [],
   "source": [
    "#Se eliminan los outliers\n",
    "\n",
    "\n",
    "mask_metro_totales = data['Metros_Totales'] < 5000\n",
    "mask_metro_cubiertos = data['Metros_Cubiertos'] < 700\n",
    "\n",
    "medias_metros_cubiertos = data.loc[mask_metro_cubiertos,:].groupby('Tipo_Propiedad')['Metros_Cubiertos'].mean()\n",
    "std_metros_cubiertos = data.loc[mask_metro_cubiertos,:].groupby('Tipo_Propiedad')['Metros_Cubiertos'].std() \n",
    "\n",
    "medias_metros_totales = data.loc[mask_metro_totales,:].groupby('Tipo_Propiedad')['Metros_Totales'].mean()\n",
    "std_metros_totales = data.loc[mask_metro_totales,:].groupby('Tipo_Propiedad')['Metros_Totales'].std()\n",
    "\n",
    "data.Metros_Cubiertos=data.apply(lambda x : np.NaN if (np.abs(x.Metros_Cubiertos - medias_metros_cubiertos[x.Tipo_Propiedad])>= (2*std_metros_cubiertos[x.Tipo_Propiedad])) else x.Metros_Cubiertos,axis=1)\n",
    "data.Metros_Totales=data.apply(lambda x : np.NaN if (np.abs(x.Metros_Totales - medias_metros_totales[x.Tipo_Propiedad])>= (2*std_metros_totales[x.Tipo_Propiedad])) else x.Metros_Totales,axis=1)\n",
    "  "
   ]
  },
  {
   "cell_type": "markdown",
   "id": "1528a76d",
   "metadata": {},
   "source": [
    "Aplicamos regex en la descripción"
   ]
  },
  {
   "cell_type": "code",
   "execution_count": 28,
   "id": "3ea0f42b",
   "metadata": {},
   "outputs": [],
   "source": [
    "#Separar una columna con la superficie desde description\n",
    "\n",
    "pattern_superf = \"\\d+( )?(M|m)( )?(2)\"\n",
    "pattern_superf_compilado = re.compile(pattern_superf)\n",
    "match_con_superf = data.Descripcion.apply(lambda x: x if x is np.NaN else pattern_superf_compilado.search(x))\n",
    "\n",
    "mask_data_superf_match_notnull = match_con_superf.notnull()\n",
    "\n",
    "#Se crea columna Superf_de_descrip con los valores matcheados de descripcion\n",
    "data.loc[mask_data_superf_match_notnull, \"Superficie_de_descrip\"] = match_con_superf[mask_data_superf_match_notnull].apply(lambda x: x.group(0))\n",
    "\n",
    "#Se divide la columna Superf_de_descrip y se crea un nuevo data frame con las columnas separadas  \n",
    "Superficie_de_descrip = data[\"Superficie_de_descrip\"].str.split(\"( )?(m|M)\",expand=True)\n",
    "Superficie_de_descrip = Superficie_de_descrip.drop([1,2,3], axis = 1)\n",
    "Superficie_de_descrip.columns = ['Superf_descrip_num']\n",
    "\n",
    "#Se concatena el nuevo df sobre el data set\n",
    "data = pd.concat([data,Superficie_de_descrip], axis=1)\n",
    "\n",
    "data = data.drop(\"Superficie_de_descrip\", axis=1)\n",
    "\n",
    "#Se convierte la columna Superf_descrip_num en tipo float64\n",
    "data[['Superf_descrip_num']] = data[['Superf_descrip_num']].astype(float)\n",
    "data['Superf_descrip_num'].replace(0.0,np.NaN,inplace=True)\n",
    "\n",
    "#Se filtra outliers de la columna Superf_descrip_num\n",
    "data.Superf_descrip_num = data.apply(lambda x : np.nan if (np.abs(x.Superf_descrip_num - medias_metros_totales[x.Tipo_Propiedad])>= (2*std_metros_totales[x.Tipo_Propiedad])) else x.Superf_descrip_num,axis=1)\n",
    " "
   ]
  },
  {
   "cell_type": "code",
   "execution_count": 29,
   "id": "59a178ab",
   "metadata": {},
   "outputs": [],
   "source": [
    "data['Metros_Totales'] = data.Metros_Totales.fillna(data.Superf_descrip_num)\n",
    "data['Metros_Cubiertos'] = data.Metros_Cubiertos.fillna(data.Superf_descrip_num)\n",
    "\n",
    "data = data.drop(\"Superf_descrip_num\", axis=1)"
   ]
  },
  {
   "cell_type": "markdown",
   "id": "6d966bbf",
   "metadata": {},
   "source": [
    "Se completa la superficie con los datos de columnas de Metros_Cubiertos y Metros_Totales en donde existe un NaN\n",
    "\n",
    "Si alguna de las dos columnas de superficie esta completa, vamos a completar la otra con ese valor"
   ]
  },
  {
   "cell_type": "code",
   "execution_count": 30,
   "id": "4987cbca",
   "metadata": {},
   "outputs": [
    {
     "data": {
      "text/html": [
       "<div>\n",
       "<style scoped>\n",
       "    .dataframe tbody tr th:only-of-type {\n",
       "        vertical-align: middle;\n",
       "    }\n",
       "\n",
       "    .dataframe tbody tr th {\n",
       "        vertical-align: top;\n",
       "    }\n",
       "\n",
       "    .dataframe thead th {\n",
       "        text-align: right;\n",
       "    }\n",
       "</style>\n",
       "<table border=\"1\" class=\"dataframe\">\n",
       "  <thead>\n",
       "    <tr style=\"text-align: right;\">\n",
       "      <th></th>\n",
       "      <th>Metros_Cubiertos</th>\n",
       "      <th>Metros_Totales</th>\n",
       "    </tr>\n",
       "  </thead>\n",
       "  <tbody>\n",
       "    <tr>\n",
       "      <th>73321</th>\n",
       "      <td>NaN</td>\n",
       "      <td>NaN</td>\n",
       "    </tr>\n",
       "    <tr>\n",
       "      <th>49069</th>\n",
       "      <td>NaN</td>\n",
       "      <td>NaN</td>\n",
       "    </tr>\n",
       "    <tr>\n",
       "      <th>111040</th>\n",
       "      <td>190.0</td>\n",
       "      <td>NaN</td>\n",
       "    </tr>\n",
       "    <tr>\n",
       "      <th>54907</th>\n",
       "      <td>NaN</td>\n",
       "      <td>55.0</td>\n",
       "    </tr>\n",
       "    <tr>\n",
       "      <th>81014</th>\n",
       "      <td>NaN</td>\n",
       "      <td>NaN</td>\n",
       "    </tr>\n",
       "    <tr>\n",
       "      <th>95819</th>\n",
       "      <td>44.0</td>\n",
       "      <td>NaN</td>\n",
       "    </tr>\n",
       "    <tr>\n",
       "      <th>53696</th>\n",
       "      <td>57.0</td>\n",
       "      <td>NaN</td>\n",
       "    </tr>\n",
       "    <tr>\n",
       "      <th>108363</th>\n",
       "      <td>110.0</td>\n",
       "      <td>NaN</td>\n",
       "    </tr>\n",
       "    <tr>\n",
       "      <th>78111</th>\n",
       "      <td>200.0</td>\n",
       "      <td>NaN</td>\n",
       "    </tr>\n",
       "    <tr>\n",
       "      <th>111629</th>\n",
       "      <td>20.0</td>\n",
       "      <td>NaN</td>\n",
       "    </tr>\n",
       "  </tbody>\n",
       "</table>\n",
       "</div>"
      ],
      "text/plain": [
       "        Metros_Cubiertos  Metros_Totales\n",
       "73321                NaN             NaN\n",
       "49069                NaN             NaN\n",
       "111040             190.0             NaN\n",
       "54907                NaN            55.0\n",
       "81014                NaN             NaN\n",
       "95819               44.0             NaN\n",
       "53696               57.0             NaN\n",
       "108363             110.0             NaN\n",
       "78111              200.0             NaN\n",
       "111629              20.0             NaN"
      ]
     },
     "execution_count": 30,
     "metadata": {},
     "output_type": "execute_result"
    }
   ],
   "source": [
    "data.loc[(data['Metros_Cubiertos'].isnull())|(data['Metros_Totales'].isnull()), ['Metros_Cubiertos','Metros_Totales']].sample(10)\n"
   ]
  },
  {
   "cell_type": "code",
   "execution_count": 31,
   "id": "eaaf393c",
   "metadata": {},
   "outputs": [],
   "source": [
    "#Completamos ambas columnas con algun nulo\n",
    "data['Metros_Cubiertos'] = data['Metros_Cubiertos'].fillna(data['Metros_Totales'])\n",
    "data['Metros_Totales'] = data['Metros_Totales'].fillna(data['Metros_Cubiertos'])"
   ]
  },
  {
   "cell_type": "code",
   "execution_count": 32,
   "id": "54ea5738",
   "metadata": {},
   "outputs": [
    {
     "data": {
      "text/html": [
       "<div>\n",
       "<style scoped>\n",
       "    .dataframe tbody tr th:only-of-type {\n",
       "        vertical-align: middle;\n",
       "    }\n",
       "\n",
       "    .dataframe tbody tr th {\n",
       "        vertical-align: top;\n",
       "    }\n",
       "\n",
       "    .dataframe thead th {\n",
       "        text-align: right;\n",
       "    }\n",
       "</style>\n",
       "<table border=\"1\" class=\"dataframe\">\n",
       "  <thead>\n",
       "    <tr style=\"text-align: right;\">\n",
       "      <th></th>\n",
       "      <th>Metros_Totales</th>\n",
       "      <th>Metros_Cubiertos</th>\n",
       "    </tr>\n",
       "  </thead>\n",
       "  <tbody>\n",
       "    <tr>\n",
       "      <th>137</th>\n",
       "      <td>63.0</td>\n",
       "      <td>126.0</td>\n",
       "    </tr>\n",
       "    <tr>\n",
       "      <th>161</th>\n",
       "      <td>11.0</td>\n",
       "      <td>200.0</td>\n",
       "    </tr>\n",
       "    <tr>\n",
       "      <th>316</th>\n",
       "      <td>125.0</td>\n",
       "      <td>156.0</td>\n",
       "    </tr>\n",
       "    <tr>\n",
       "      <th>317</th>\n",
       "      <td>125.0</td>\n",
       "      <td>156.0</td>\n",
       "    </tr>\n",
       "    <tr>\n",
       "      <th>430</th>\n",
       "      <td>45.0</td>\n",
       "      <td>100.0</td>\n",
       "    </tr>\n",
       "    <tr>\n",
       "      <th>...</th>\n",
       "      <td>...</td>\n",
       "      <td>...</td>\n",
       "    </tr>\n",
       "    <tr>\n",
       "      <th>120522</th>\n",
       "      <td>3.0</td>\n",
       "      <td>360.0</td>\n",
       "    </tr>\n",
       "    <tr>\n",
       "      <th>120550</th>\n",
       "      <td>5.0</td>\n",
       "      <td>425.0</td>\n",
       "    </tr>\n",
       "    <tr>\n",
       "      <th>120662</th>\n",
       "      <td>150.0</td>\n",
       "      <td>350.0</td>\n",
       "    </tr>\n",
       "    <tr>\n",
       "      <th>120957</th>\n",
       "      <td>35.0</td>\n",
       "      <td>45.0</td>\n",
       "    </tr>\n",
       "    <tr>\n",
       "      <th>121055</th>\n",
       "      <td>77.0</td>\n",
       "      <td>98.0</td>\n",
       "    </tr>\n",
       "  </tbody>\n",
       "</table>\n",
       "<p>2843 rows × 2 columns</p>\n",
       "</div>"
      ],
      "text/plain": [
       "        Metros_Totales  Metros_Cubiertos\n",
       "137               63.0             126.0\n",
       "161               11.0             200.0\n",
       "316              125.0             156.0\n",
       "317              125.0             156.0\n",
       "430               45.0             100.0\n",
       "...                ...               ...\n",
       "120522             3.0             360.0\n",
       "120550             5.0             425.0\n",
       "120662           150.0             350.0\n",
       "120957            35.0              45.0\n",
       "121055            77.0              98.0\n",
       "\n",
       "[2843 rows x 2 columns]"
      ]
     },
     "execution_count": 32,
     "metadata": {},
     "output_type": "execute_result"
    }
   ],
   "source": [
    "data.loc[data['Metros_Cubiertos']>data['Metros_Totales'],['Metros_Totales','Metros_Cubiertos']]"
   ]
  },
  {
   "cell_type": "markdown",
   "id": "3055c4f8",
   "metadata": {},
   "source": [
    "Vamos a reemplazar los metros cubiertos por los metros totales"
   ]
  },
  {
   "cell_type": "code",
   "execution_count": 33,
   "id": "fadbdb82",
   "metadata": {},
   "outputs": [],
   "source": [
    "# Armamos un dataframe con los casos que necesitamos reemplazar\n",
    "metros_data = data.loc[data['Metros_Cubiertos']>data['Metros_Totales'],['Metros_Cubiertos']]\n",
    "\n",
    "#Cambiamos el nombre de la columna para realizar el update\n",
    "metros_data.columns = ['Metros_Totales']\n",
    "\n",
    "#Hacemos el update en los casos que necesitamos\n",
    "data.update(metros_data)"
   ]
  },
  {
   "cell_type": "code",
   "execution_count": 34,
   "id": "b614ebd1",
   "metadata": {},
   "outputs": [
    {
     "data": {
      "text/html": [
       "<div>\n",
       "<style scoped>\n",
       "    .dataframe tbody tr th:only-of-type {\n",
       "        vertical-align: middle;\n",
       "    }\n",
       "\n",
       "    .dataframe tbody tr th {\n",
       "        vertical-align: top;\n",
       "    }\n",
       "\n",
       "    .dataframe thead th {\n",
       "        text-align: right;\n",
       "    }\n",
       "</style>\n",
       "<table border=\"1\" class=\"dataframe\">\n",
       "  <thead>\n",
       "    <tr style=\"text-align: right;\">\n",
       "      <th></th>\n",
       "      <th>Metros_Totales</th>\n",
       "      <th>Metros_Cubiertos</th>\n",
       "    </tr>\n",
       "  </thead>\n",
       "  <tbody>\n",
       "  </tbody>\n",
       "</table>\n",
       "</div>"
      ],
      "text/plain": [
       "Empty DataFrame\n",
       "Columns: [Metros_Totales, Metros_Cubiertos]\n",
       "Index: []"
      ]
     },
     "execution_count": 34,
     "metadata": {},
     "output_type": "execute_result"
    }
   ],
   "source": [
    "#Chequeamos que el update haya funcionado como queriamos, volviendo a filtrar el df original\n",
    "data.loc[data['Metros_Cubiertos']>data['Metros_Totales'],['Metros_Totales','Metros_Cubiertos']]"
   ]
  },
  {
   "cell_type": "code",
   "execution_count": 35,
   "id": "c0e26d93",
   "metadata": {},
   "outputs": [
    {
     "data": {
      "text/plain": [
       "<AxesSubplot:title={'center':'Metros Cubiertos'}, xlabel='Tipo_Propiedad', ylabel='Metros_Cubiertos'>"
      ]
     },
     "execution_count": 35,
     "metadata": {},
     "output_type": "execute_result"
    },
    {
     "data": {
      "image/png": "[encoded data removed]",
      "text/plain": [
       "<Figure size 1080x360 with 2 Axes>"
      ]
     },
     "metadata": {
      "needs_background": "light"
     },
     "output_type": "display_data"
    }
   ],
   "source": [
    "fig, axes = plt.subplots(1, 2, figsize=(15, 5), sharey=True)\n",
    "fig.suptitle('Metros Totales y Metros Cubiertos')\n",
    "\n",
    "axes[0].set_title('Metros Totales')\n",
    "sns.boxplot(ax=axes[0],y='Metros_Totales',x='Tipo_Propiedad',data=data)\n",
    "\n",
    "axes[1].set_title('Metros Cubiertos')\n",
    "sns.boxplot(ax=axes[1],y='Metros_Cubiertos',x='Tipo_Propiedad',data=data)\n"
   ]
  },
  {
   "cell_type": "markdown",
   "id": "8c2fc687",
   "metadata": {},
   "source": [
    "### Se analiza la columna Precio en Dolares"
   ]
  },
  {
   "cell_type": "markdown",
   "id": "d5818572",
   "metadata": {},
   "source": [
    "1- Filtramos outliers discriminado por tipo de propiedad y que se no se encuentren contenidos dentro de 2 desvios estandar.\n",
    "\n",
    "2- Con regex se busca en descripción los precios en dólares para rellenar nulos."
   ]
  },
  {
   "cell_type": "code",
   "execution_count": 36,
   "id": "8dc3f0e3",
   "metadata": {},
   "outputs": [
    {
     "data": {
      "text/plain": [
       "<AxesSubplot:xlabel='Tipo_Propiedad', ylabel='Precio_Dolares'>"
      ]
     },
     "execution_count": 36,
     "metadata": {},
     "output_type": "execute_result"
    },
    {
     "data": {
      "image/png": "[encoded data removed]",
      "text/plain": [
       "<Figure size 432x288 with 1 Axes>"
      ]
     },
     "metadata": {
      "needs_background": "light"
     },
     "output_type": "display_data"
    }
   ],
   "source": [
    "#Veamos outliers graficamente\n",
    "sns.boxplot(y='Precio_Dolares',x='Tipo_Propiedad',data=data) "
   ]
  },
  {
   "cell_type": "code",
   "execution_count": 37,
   "id": "205c1292",
   "metadata": {},
   "outputs": [],
   "source": [
    "# #Se eliminan los outliers\n",
    "medias_Precio_Dolares = data.groupby('Tipo_Propiedad')['Precio_Dolares'].mean()\n",
    "std_Precio_Dolares = data.groupby('Tipo_Propiedad')['Precio_Dolares'].std()\n",
    "\n",
    "data.Precio_Dolares=data.apply(lambda x : np.NaN if (np.abs(x.Precio_Dolares - medias_Precio_Dolares[x.Tipo_Propiedad])>= (2*std_Precio_Dolares[x.Tipo_Propiedad])) else x.Precio_Dolares,axis=1)"
   ]
  },
  {
   "cell_type": "code",
   "execution_count": 38,
   "id": "f205950c",
   "metadata": {},
   "outputs": [],
   "source": [
    "#Se aplica regex\n",
    "patron = r'(\\bU\\$S)(\\s)(?P<miles>\\d+)(\\.)?(?P<unidades>\\d*)'\n",
    "\n",
    "p_dls = data.Descripcion.str.extract(patron, flags= re.IGNORECASE, expand = False)"
   ]
  },
  {
   "cell_type": "code",
   "execution_count": 39,
   "id": "268b78e4",
   "metadata": {},
   "outputs": [],
   "source": [
    "#Transformamos las columnas a numeric\n",
    "p_dls['miles'] = pd.to_numeric(p_dls['miles'], errors= 'coerce')\n",
    "p_dls['unidades'] = pd.to_numeric(p_dls['unidades'], errors= 'coerce')"
   ]
  },
  {
   "cell_type": "code",
   "execution_count": 40,
   "id": "01667ebb",
   "metadata": {},
   "outputs": [],
   "source": [
    "# Generamos la columna con el precio en dolares\n",
    "p_dls['Precio'] = p_dls['miles']*1000 + p_dls['unidades']"
   ]
  },
  {
   "cell_type": "code",
   "execution_count": 41,
   "id": "1c486a21",
   "metadata": {},
   "outputs": [],
   "source": [
    "# Completamos los valores nulos de la columna original\n",
    "data['Precio_Regex'] = p_dls['Precio']\n",
    "\n",
    "data.Precio_Regex=data.apply(lambda x : np.NaN if (np.abs(x.Precio_Regex - medias_Precio_Dolares[x.Tipo_Propiedad])>= (2*std_Precio_Dolares[x.Tipo_Propiedad])) else x.Precio_Regex,axis=1)\n",
    "data['Precio_Dolares'] = data['Precio_Dolares'].fillna(data['Precio_Regex'])\n",
    "\n",
    "data.drop(columns='Precio_Regex',inplace=True)"
   ]
  },
  {
   "cell_type": "code",
   "execution_count": 42,
   "id": "9e4fa5b1",
   "metadata": {},
   "outputs": [
    {
     "name": "stdout",
     "output_type": "stream",
     "text": [
      "False    0.814346\n",
      "True     0.185654\n",
      "Name: Precio_Dolares, dtype: float64\n"
     ]
    },
    {
     "data": {
      "text/plain": [
       "<AxesSubplot:xlabel='Tipo_Propiedad', ylabel='Precio_Dolares'>"
      ]
     },
     "execution_count": 42,
     "metadata": {},
     "output_type": "execute_result"
    },
    {
     "data": {
      "image/png": "[encoded data removed]",
      "text/plain": [
       "<Figure size 432x288 with 1 Axes>"
      ]
     },
     "metadata": {
      "needs_background": "light"
     },
     "output_type": "display_data"
    }
   ],
   "source": [
    "# Chequeamos cuantos completamos\n",
    "\n",
    "print(data['Precio_Dolares'].isnull().value_counts()/data.shape[0])\n",
    "sns.boxplot(y='Precio_Dolares',x='Tipo_Propiedad',data=data) "
   ]
  },
  {
   "cell_type": "markdown",
   "id": "b7472bb3",
   "metadata": {},
   "source": [
    "### Se analiza columna de Precio en pesos\n"
   ]
  },
  {
   "cell_type": "markdown",
   "id": "9bbc3a2c",
   "metadata": {},
   "source": [
    "1- Filtramos outliers discriminado por tipo de propiedad y que se no se encuentren contenidos dentro de 2 desvios estandar.\n",
    "\n",
    "2- Con regex se busca en descripción los precios en pesos para rellenar nulos."
   ]
  },
  {
   "cell_type": "code",
   "execution_count": 43,
   "id": "e3605f1c",
   "metadata": {},
   "outputs": [
    {
     "data": {
      "text/plain": [
       "<AxesSubplot:xlabel='Tipo_Propiedad', ylabel='Precio_ARS'>"
      ]
     },
     "execution_count": 43,
     "metadata": {},
     "output_type": "execute_result"
    },
    {
     "data": {
      "image/png": "[encoded data removed]",
      "text/plain": [
       "<Figure size 432x288 with 1 Axes>"
      ]
     },
     "metadata": {
      "needs_background": "light"
     },
     "output_type": "display_data"
    }
   ],
   "source": [
    "#Se analizan outliers graficamente\n",
    "sns.boxplot(y='Precio_ARS',x='Tipo_Propiedad',data=data)"
   ]
  },
  {
   "cell_type": "code",
   "execution_count": 44,
   "id": "78db78b4",
   "metadata": {},
   "outputs": [],
   "source": [
    "# Se eliminan outliers\n",
    "\n",
    "medias_Precio_ARS = data.groupby('Tipo_Propiedad')['Precio_ARS'].mean()\n",
    "std_Precio_ARS = data.groupby('Tipo_Propiedad')['Precio_ARS'].std()\n",
    "\n",
    "data.Precio_ARS=data.apply(lambda x : np.NaN if (np.abs(x.Precio_ARS - medias_Precio_ARS[x.Tipo_Propiedad])>= (2*std_Precio_ARS[x.Tipo_Propiedad])) else x.Precio_ARS,axis=1)"
   ]
  },
  {
   "cell_type": "code",
   "execution_count": 45,
   "id": "1e6b1e16",
   "metadata": {},
   "outputs": [
    {
     "data": {
      "text/plain": [
       "False    0.810823\n",
       "True     0.189177\n",
       "Name: Precio_ARS, dtype: float64"
      ]
     },
     "execution_count": 45,
     "metadata": {},
     "output_type": "execute_result"
    }
   ],
   "source": [
    "# Chequeamos la cantidad de valores nulos \n",
    "\n",
    "data['Precio_ARS'].isnull().value_counts()/data.shape[0]"
   ]
  },
  {
   "cell_type": "code",
   "execution_count": 46,
   "id": "871e08fe",
   "metadata": {},
   "outputs": [],
   "source": [
    "## #Se aplica regex\n",
    "patron = r'(\\$)(\\s)?(?P<millones>\\d*)(\\.)?(?P<miles>\\d{3})(\\.)(?P<unidades>\\d{3})'\n",
    "\n",
    "p_ars = data.Descripcion.str.extract(patron, flags= re.IGNORECASE, expand = False)"
   ]
  },
  {
   "cell_type": "code",
   "execution_count": 47,
   "id": "4a74101f",
   "metadata": {},
   "outputs": [
    {
     "data": {
      "text/html": [
       "<div>\n",
       "<style scoped>\n",
       "    .dataframe tbody tr th:only-of-type {\n",
       "        vertical-align: middle;\n",
       "    }\n",
       "\n",
       "    .dataframe tbody tr th {\n",
       "        vertical-align: top;\n",
       "    }\n",
       "\n",
       "    .dataframe thead th {\n",
       "        text-align: right;\n",
       "    }\n",
       "</style>\n",
       "<table border=\"1\" class=\"dataframe\">\n",
       "  <thead>\n",
       "    <tr style=\"text-align: right;\">\n",
       "      <th></th>\n",
       "      <th>millones</th>\n",
       "      <th>miles</th>\n",
       "      <th>unidades</th>\n",
       "    </tr>\n",
       "  </thead>\n",
       "  <tbody>\n",
       "    <tr>\n",
       "      <th>116451</th>\n",
       "      <td></td>\n",
       "      <td>700</td>\n",
       "      <td>000</td>\n",
       "    </tr>\n",
       "    <tr>\n",
       "      <th>87464</th>\n",
       "      <td></td>\n",
       "      <td>344</td>\n",
       "      <td>200</td>\n",
       "    </tr>\n",
       "    <tr>\n",
       "      <th>101302</th>\n",
       "      <td>1</td>\n",
       "      <td>250</td>\n",
       "      <td>000</td>\n",
       "    </tr>\n",
       "    <tr>\n",
       "      <th>33102</th>\n",
       "      <td></td>\n",
       "      <td>970</td>\n",
       "      <td>000</td>\n",
       "    </tr>\n",
       "    <tr>\n",
       "      <th>51096</th>\n",
       "      <td>4</td>\n",
       "      <td>417</td>\n",
       "      <td>994</td>\n",
       "    </tr>\n",
       "    <tr>\n",
       "      <th>116048</th>\n",
       "      <td>1</td>\n",
       "      <td>650</td>\n",
       "      <td>000</td>\n",
       "    </tr>\n",
       "    <tr>\n",
       "      <th>9485</th>\n",
       "      <td></td>\n",
       "      <td>990</td>\n",
       "      <td>000</td>\n",
       "    </tr>\n",
       "    <tr>\n",
       "      <th>81221</th>\n",
       "      <td>4</td>\n",
       "      <td>200</td>\n",
       "      <td>000</td>\n",
       "    </tr>\n",
       "    <tr>\n",
       "      <th>3782</th>\n",
       "      <td>1</td>\n",
       "      <td>000</td>\n",
       "      <td>000</td>\n",
       "    </tr>\n",
       "    <tr>\n",
       "      <th>7314</th>\n",
       "      <td></td>\n",
       "      <td>254</td>\n",
       "      <td>449</td>\n",
       "    </tr>\n",
       "  </tbody>\n",
       "</table>\n",
       "</div>"
      ],
      "text/plain": [
       "       millones miles unidades\n",
       "116451            700      000\n",
       "87464             344      200\n",
       "101302        1   250      000\n",
       "33102             970      000\n",
       "51096         4   417      994\n",
       "116048        1   650      000\n",
       "9485              990      000\n",
       "81221         4   200      000\n",
       "3782          1   000      000\n",
       "7314              254      449"
      ]
     },
     "execution_count": 47,
     "metadata": {},
     "output_type": "execute_result"
    }
   ],
   "source": [
    "# Chequeamos si extrajimos la informacion correctamente\n",
    "p_ars.loc[~p_ars['miles'].isnull(),['millones','miles','unidades']].sample(10)"
   ]
  },
  {
   "cell_type": "code",
   "execution_count": 48,
   "id": "f0865948",
   "metadata": {},
   "outputs": [],
   "source": [
    "#Transformamos las columnas a numeric\n",
    "\n",
    "p_ars['millones'] = pd.to_numeric(p_ars['millones'], errors= 'coerce')\n",
    "p_ars['miles'] = pd.to_numeric(p_ars['miles'], errors= 'coerce')\n",
    "p_ars['unidades'] = pd.to_numeric(p_ars['unidades'], errors= 'coerce')"
   ]
  },
  {
   "cell_type": "code",
   "execution_count": 49,
   "id": "cd9ea549",
   "metadata": {},
   "outputs": [],
   "source": [
    "# Generamos la columna con el precio en pesos\n",
    "\n",
    "p_ars['Precio'] = p_ars['millones']*1000000 +p_ars['miles']*1000 + p_ars['unidades']"
   ]
  },
  {
   "cell_type": "code",
   "execution_count": 50,
   "id": "b88785cf",
   "metadata": {},
   "outputs": [],
   "source": [
    "# Completamos los valores nulos de la columna original \n",
    "data['Precio_ARS_Regex'] = p_ars['Precio']\n",
    "\n",
    "data.Precio_ARS_Regex=data.apply(lambda x : np.NaN if (np.abs(x.Precio_ARS_Regex - medias_Precio_ARS[x.Tipo_Propiedad])>= (2*std_Precio_ARS[x.Tipo_Propiedad])) else x.Precio_ARS_Regex,axis=1)\n",
    "data['Precio_ARS'] = data['Precio_ARS'].fillna(data['Precio_ARS_Regex'])\n",
    "            \n",
    "data.drop(columns='Precio_ARS_Regex',inplace=True)"
   ]
  },
  {
   "cell_type": "code",
   "execution_count": 51,
   "id": "0315df55",
   "metadata": {},
   "outputs": [],
   "source": [
    "# Completamos los valores nulos de la columna original\n",
    "data['Precio_ARS'] = data['Precio_ARS'].fillna(p_ars['Precio'])"
   ]
  },
  {
   "cell_type": "markdown",
   "id": "aae2fc67",
   "metadata": {},
   "source": [
    "### Se calcula valores faltantes con las columnas"
   ]
  },
  {
   "cell_type": "markdown",
   "id": "8aab63d2",
   "metadata": {},
   "source": [
    "Se eliminan outliers de las columnas Precio_m2_Dls y Precio_m2\n",
    "\n",
    "* Precio Total\n",
    "\n",
    "* Superficie Total\n",
    "\n",
    "* Precio por m2"
   ]
  },
  {
   "cell_type": "code",
   "execution_count": 52,
   "id": "76c06562",
   "metadata": {},
   "outputs": [],
   "source": [
    "#Completamos Precio ARS cuando tenemos Precio x M2 y Superficie\n",
    "\n",
    "preciom2 = data.loc[(data['Precio_ARS'].isnull())&(~data['Precio_m2'].isnull())&(~data['Metros_Totales'].isnull()) , 'Precio_m2']\n",
    "superficie = data.loc[(data['Precio_ARS'].isnull())&(~data['Precio_m2'].isnull())&(~data['Metros_Totales'].isnull()) , 'Metros_Totales']\n",
    "\n",
    "data.loc[data['Precio_ARS'].isnull(), 'Precio_ARS'] = preciom2*superficie"
   ]
  },
  {
   "cell_type": "code",
   "execution_count": 53,
   "id": "426cdc6f",
   "metadata": {},
   "outputs": [],
   "source": [
    "#Completamos Precio x M2 cuando tenemos Precio ARS y Superficie\n",
    "\n",
    "precio = data.loc[~(data['Precio_ARS'].isnull())&(data['Precio_m2'].isnull())&(~data['Metros_Totales'].isnull()) , 'Precio_ARS']\n",
    "superficie = data.loc[~(data['Precio_ARS'].isnull())&(data['Precio_m2'].isnull())&(~data['Metros_Totales'].isnull()) , 'Metros_Totales']\n",
    "\n",
    "data.loc[data['Precio_m2'].isnull(), 'Precio_m2'] = precio/superficie"
   ]
  },
  {
   "cell_type": "code",
   "execution_count": 54,
   "id": "9ebad244",
   "metadata": {},
   "outputs": [],
   "source": [
    "#Completamos Precio DLS cuando tenemos Precio x M2 Dls y Superficie\n",
    "\n",
    "preciom2 = data.loc[(data['Precio_Dolares'].isnull())&(~data['Precio_m2_Dls'].isnull())&(~data['Metros_Totales'].isnull()) , 'Precio_m2_Dls']\n",
    "superficie = data.loc[(data['Precio_Dolares'].isnull())&(~data['Precio_m2_Dls'].isnull())&(~data['Metros_Totales'].isnull()) , 'Metros_Totales']\n",
    "\n",
    "data.loc[data['Precio_Dolares'].isnull(), 'Precio_Dolares'] = preciom2*superficie"
   ]
  },
  {
   "cell_type": "code",
   "execution_count": 55,
   "id": "135886e7",
   "metadata": {},
   "outputs": [],
   "source": [
    "#Completamos Precio x M2 Dls cuando tenemos Precio DLS y Superficie\n",
    "\n",
    "precio = data.loc[~(data['Precio_Dolares'].isnull())&(data['Precio_m2_Dls'].isnull())&(~data['Metros_Totales'].isnull()) , 'Precio_Dolares']\n",
    "superficie = data.loc[~(data['Precio_Dolares'].isnull())&(data['Precio_m2_Dls'].isnull())&(~data['Metros_Totales'].isnull()) , 'Metros_Totales']\n",
    "\n",
    "data.loc[data['Precio_m2_Dls'].isnull(), 'Precio_m2_Dls'] = precio/superficie"
   ]
  },
  {
   "cell_type": "code",
   "execution_count": 56,
   "id": "965a069a",
   "metadata": {},
   "outputs": [],
   "source": [
    "#Completamos Superficie cuando tenemos Precio Total y Precio x M2 (Pesos)\n",
    "\n",
    "preciom2 = data.loc[~(data['Precio_ARS'].isnull())&(~data['Precio_m2'].isnull())&(data['Metros_Totales'].isnull()) , 'Precio_m2']\n",
    "precio = data.loc[~(data['Precio_ARS'].isnull())&(data['Precio_m2'].isnull())&(data['Metros_Totales'].isnull()) , 'Precio_ARS']\n",
    "\n",
    "\n",
    "#data.loc[data['Metros_Totales'].isnull(), 'Metros_Totales'] = precio/preciom2"
   ]
  },
  {
   "cell_type": "code",
   "execution_count": 57,
   "id": "e7f98dc6",
   "metadata": {},
   "outputs": [],
   "source": [
    "#Completamos Superficie cuando tenemos Precio Total y Precio x M2 (Dolares)\n",
    "\n",
    "preciom2 = data.loc[~(data['Precio_Dolares'].isnull())&(~data['Precio_m2_Dls'].isnull())&(data['Metros_Totales'].isnull()) , 'Precio_m2_Dls']\n",
    "precio = data.loc[~(data['Precio_Dolares'].isnull())&(data['Precio_m2_Dls'].isnull())&(data['Metros_Totales'].isnull()) , 'Precio_Dolares']\n",
    "\n",
    "\n",
    "data.loc[data['Metros_Totales'].isnull(), 'Metros_Totales'] = precio/preciom2"
   ]
  },
  {
   "cell_type": "code",
   "execution_count": 58,
   "id": "e7c2a814",
   "metadata": {},
   "outputs": [],
   "source": [
    "medias_prov = data.groupby('Provincia')['Precio_m2_Dls'].mean()\n",
    "std_prov = data.groupby('Provincia')['Precio_m2_Dls'].std()\n",
    "provincias = medias_prov.index\n",
    "\n",
    "for provincia in provincias:\n",
    "    mask_prov = data.loc[:,'Provincia'] == provincia\n",
    "    data.loc[mask_prov,'Precio_m2_Dls']=data.loc[mask_prov,'Precio_m2_Dls'].apply(lambda x : np.NaN if np.abs(x - medias_prov[provincia])>=2*std_prov[provincia] else x)\n",
    "    "
   ]
  },
  {
   "cell_type": "code",
   "execution_count": 59,
   "id": "c08bed82",
   "metadata": {},
   "outputs": [],
   "source": [
    "#Se dropean las filas que tienen NaN las columnas Metros_Totales y Precio_Dolares\n",
    "def drop_filas_sup_total_price_nan(x):\n",
    "    if( (pd.isnull(x.Metros_Totales)) and (pd.isnull(x.Precio_Dolares))):\n",
    "        return True\n",
    "    return False\n",
    "\n",
    "drop_filas = data.apply(axis=1,func=drop_filas_sup_total_price_nan)\n",
    "data.drop(index=drop_filas.index[drop_filas], axis='index',inplace=True)\n"
   ]
  },
  {
   "cell_type": "code",
   "execution_count": 60,
   "id": "2effd82e",
   "metadata": {},
   "outputs": [
    {
     "name": "stdout",
     "output_type": "stream",
     "text": [
      "Se eliminan las filas que pertenecen a las siguientes provincias: Index(['Formosa', 'Chaco', 'Tierra Del Fuego', 'San Juan', 'Santa Cruz',\n",
      "       'Catamarca', 'Jujuy', 'Santiago Del Estero', 'La Rioja'],\n",
      "      dtype='object')\n"
     ]
    },
    {
     "data": {
      "text/plain": [
       "Capital Federal                 31571\n",
       "Bs.As. G.B.A. Zona Norte        25166\n",
       "Bs.As. G.B.A. Zona Sur          13361\n",
       "Córdoba                         11330\n",
       "Buenos Aires Costa Atlántica     9750\n",
       "Bs.As. G.B.A. Zona Oeste         9095\n",
       "Santa Fe                         8975\n",
       "Buenos Aires Interior            2199\n",
       "Río Negro                         706\n",
       "Neuquén                           635\n",
       "Tucumán                           581\n",
       "Mendoza                           559\n",
       "Corrientes                        553\n",
       "Misiones                          451\n",
       "Entre Ríos                        336\n",
       "Chubut                            241\n",
       "San Luis                          241\n",
       "Salta                             178\n",
       "La Pampa                          115\n",
       "Name: Provincia, dtype: int64"
      ]
     },
     "execution_count": 60,
     "metadata": {},
     "output_type": "execute_result"
    }
   ],
   "source": [
    "#Eliminamos las provincias que tienen menos de 100 datos\n",
    "\n",
    "mask_provincia = data.Provincia.value_counts() < 100\n",
    "provincias_drop = mask_provincia.index[mask_provincia]\n",
    "\n",
    "print(f'Se eliminan las filas que pertenecen a las siguientes provincias: {provincias_drop}')\n",
    "\n",
    "for provincia in provincias_drop:\n",
    "    \n",
    "    mask_drop = data.Provincia == provincia\n",
    "    index_drop = mask_drop.index[mask_drop]\n",
    "    data.drop(index = index_drop ,axis=0,inplace=True)\n",
    "    data_original.drop(index = index_drop ,axis=0,inplace=True)\n",
    "    \n",
    "data['Provincia'].value_counts()"
   ]
  },
  {
   "cell_type": "markdown",
   "id": "b25fc829",
   "metadata": {},
   "source": [
    "#### Se analizan nuevamente los null"
   ]
  },
  {
   "cell_type": "code",
   "execution_count": 61,
   "id": "67927956",
   "metadata": {},
   "outputs": [
    {
     "data": {
      "text/plain": [
       "Tipo_Propiedad        0.000000\n",
       "Barrio                0.000190\n",
       "Ubicacion_Completa    0.000000\n",
       "Provincia             0.000000\n",
       "GeoNames_ID           0.158553\n",
       "Latitud_Longitud      0.430478\n",
       "Latitud               0.430478\n",
       "Longitud              0.430478\n",
       "Precio                0.139784\n",
       "Moneda                0.139784\n",
       "Precio_ARS            0.140276\n",
       "Precio_Dolares        0.140008\n",
       "Metros_Totales        0.071025\n",
       "Metros_Cubiertos      0.071025\n",
       "Precio_m2_Dls         0.212887\n",
       "Precio_m2             0.200426\n",
       "Descripcion           0.000017\n",
       "Titulo                0.000000\n",
       "Amenities_Pileta      0.000000\n",
       "Amenities_Balcon      0.000000\n",
       "dtype: float64"
      ]
     },
     "execution_count": 61,
     "metadata": {},
     "output_type": "execute_result"
    }
   ],
   "source": [
    "data.isnull().sum()/data.shape[0]"
   ]
  },
  {
   "cell_type": "code",
   "execution_count": 62,
   "id": "f8f8af57",
   "metadata": {},
   "outputs": [],
   "source": [
    "#Dropeamos todas las observaciones que tengan algun valor nulo en las columnas relevantes\n",
    "drop_col = ['Metros_Cubiertos','Metros_Totales', 'Precio_ARS', 'Precio_Dolares', 'Precio_m2', 'Precio_m2_Dls']\n",
    "\n",
    "data = data.dropna(axis =0 , how = 'any', subset = drop_col)"
   ]
  },
  {
   "cell_type": "code",
   "execution_count": 63,
   "id": "179c6b07",
   "metadata": {},
   "outputs": [
    {
     "data": {
      "text/plain": [
       "Tipo_Propiedad        0.000000\n",
       "Barrio                0.000232\n",
       "Ubicacion_Completa    0.000000\n",
       "Provincia             0.000000\n",
       "GeoNames_ID           0.170767\n",
       "Latitud_Longitud      0.418706\n",
       "Latitud               0.418706\n",
       "Longitud              0.418706\n",
       "Precio                0.000000\n",
       "Moneda                0.000000\n",
       "Precio_ARS            0.000000\n",
       "Precio_Dolares        0.000000\n",
       "Metros_Totales        0.000000\n",
       "Metros_Cubiertos      0.000000\n",
       "Precio_m2_Dls         0.000000\n",
       "Precio_m2             0.000000\n",
       "Descripcion           0.000011\n",
       "Titulo                0.000000\n",
       "Amenities_Pileta      0.000000\n",
       "Amenities_Balcon      0.000000\n",
       "dtype: float64"
      ]
     },
     "execution_count": 63,
     "metadata": {},
     "output_type": "execute_result"
    }
   ],
   "source": [
    "data.isnull().sum()/data.shape[0]"
   ]
  },
  {
   "cell_type": "markdown",
   "id": "3014addf",
   "metadata": {},
   "source": [
    "## Análisis final"
   ]
  },
  {
   "cell_type": "code",
   "execution_count": 64,
   "id": "e38d22d7",
   "metadata": {},
   "outputs": [
    {
     "name": "stdout",
     "output_type": "stream",
     "text": [
      "Tamaño final del DataSet: (90357, 20)\n"
     ]
    }
   ],
   "source": [
    "print('Tamaño final del DataSet:',data.shape)"
   ]
  },
  {
   "cell_type": "code",
   "execution_count": 65,
   "id": "6c162d99",
   "metadata": {},
   "outputs": [
    {
     "data": {
      "text/html": [
       "<div>\n",
       "<style scoped>\n",
       "    .dataframe tbody tr th:only-of-type {\n",
       "        vertical-align: middle;\n",
       "    }\n",
       "\n",
       "    .dataframe tbody tr th {\n",
       "        vertical-align: top;\n",
       "    }\n",
       "\n",
       "    .dataframe thead tr th {\n",
       "        text-align: left;\n",
       "    }\n",
       "\n",
       "    .dataframe thead tr:last-of-type th {\n",
       "        text-align: right;\n",
       "    }\n",
       "</style>\n",
       "<table border=\"1\" class=\"dataframe\">\n",
       "  <thead>\n",
       "    <tr>\n",
       "      <th></th>\n",
       "      <th colspan=\"4\" halign=\"left\">Precio_m2_Dls</th>\n",
       "    </tr>\n",
       "    <tr>\n",
       "      <th>Tipo_Propiedad</th>\n",
       "      <th>PH</th>\n",
       "      <th>apartment</th>\n",
       "      <th>house</th>\n",
       "      <th>store</th>\n",
       "    </tr>\n",
       "    <tr>\n",
       "      <th>Provincia</th>\n",
       "      <th></th>\n",
       "      <th></th>\n",
       "      <th></th>\n",
       "      <th></th>\n",
       "    </tr>\n",
       "  </thead>\n",
       "  <tbody>\n",
       "    <tr>\n",
       "      <th>Capital Federal</th>\n",
       "      <td>2061.80</td>\n",
       "      <td>2859.76</td>\n",
       "      <td>1918.65</td>\n",
       "      <td>3192.15</td>\n",
       "    </tr>\n",
       "    <tr>\n",
       "      <th>Bs.As. G.B.A. Zona Norte</th>\n",
       "      <td>1707.08</td>\n",
       "      <td>2458.43</td>\n",
       "      <td>1504.91</td>\n",
       "      <td>2349.08</td>\n",
       "    </tr>\n",
       "    <tr>\n",
       "      <th>Río Negro</th>\n",
       "      <td>1228.66</td>\n",
       "      <td>2324.95</td>\n",
       "      <td>1366.17</td>\n",
       "      <td>1666.88</td>\n",
       "    </tr>\n",
       "    <tr>\n",
       "      <th>Chubut</th>\n",
       "      <td>NaN</td>\n",
       "      <td>2051.99</td>\n",
       "      <td>1434.49</td>\n",
       "      <td>1332.88</td>\n",
       "    </tr>\n",
       "    <tr>\n",
       "      <th>Buenos Aires Interior</th>\n",
       "      <td>1377.46</td>\n",
       "      <td>1975.09</td>\n",
       "      <td>1003.99</td>\n",
       "      <td>1077.49</td>\n",
       "    </tr>\n",
       "    <tr>\n",
       "      <th>Buenos Aires Costa Atlántica</th>\n",
       "      <td>1199.22</td>\n",
       "      <td>1934.16</td>\n",
       "      <td>822.16</td>\n",
       "      <td>1418.62</td>\n",
       "    </tr>\n",
       "    <tr>\n",
       "      <th>Corrientes</th>\n",
       "      <td>1424.84</td>\n",
       "      <td>1926.15</td>\n",
       "      <td>1196.60</td>\n",
       "      <td>2289.29</td>\n",
       "    </tr>\n",
       "    <tr>\n",
       "      <th>Bs.As. G.B.A. Zona Sur</th>\n",
       "      <td>1474.75</td>\n",
       "      <td>1921.31</td>\n",
       "      <td>1385.66</td>\n",
       "      <td>2119.61</td>\n",
       "    </tr>\n",
       "    <tr>\n",
       "      <th>Bs.As. G.B.A. Zona Oeste</th>\n",
       "      <td>1417.09</td>\n",
       "      <td>1778.16</td>\n",
       "      <td>1239.76</td>\n",
       "      <td>2035.17</td>\n",
       "    </tr>\n",
       "    <tr>\n",
       "      <th>Neuquén</th>\n",
       "      <td>2336.30</td>\n",
       "      <td>1765.96</td>\n",
       "      <td>950.92</td>\n",
       "      <td>1217.30</td>\n",
       "    </tr>\n",
       "    <tr>\n",
       "      <th>Mendoza</th>\n",
       "      <td>900.00</td>\n",
       "      <td>1696.31</td>\n",
       "      <td>1337.29</td>\n",
       "      <td>1352.16</td>\n",
       "    </tr>\n",
       "    <tr>\n",
       "      <th>Santa Fe</th>\n",
       "      <td>1342.69</td>\n",
       "      <td>1693.39</td>\n",
       "      <td>1023.04</td>\n",
       "      <td>1727.01</td>\n",
       "    </tr>\n",
       "    <tr>\n",
       "      <th>Córdoba</th>\n",
       "      <td>1198.66</td>\n",
       "      <td>1581.01</td>\n",
       "      <td>1007.01</td>\n",
       "      <td>1814.45</td>\n",
       "    </tr>\n",
       "    <tr>\n",
       "      <th>Misiones</th>\n",
       "      <td>1154.66</td>\n",
       "      <td>1458.45</td>\n",
       "      <td>1076.56</td>\n",
       "      <td>9.88</td>\n",
       "    </tr>\n",
       "    <tr>\n",
       "      <th>Entre Ríos</th>\n",
       "      <td>474.55</td>\n",
       "      <td>1363.42</td>\n",
       "      <td>759.59</td>\n",
       "      <td>1602.06</td>\n",
       "    </tr>\n",
       "    <tr>\n",
       "      <th>Salta</th>\n",
       "      <td>NaN</td>\n",
       "      <td>1303.00</td>\n",
       "      <td>1055.08</td>\n",
       "      <td>179.47</td>\n",
       "    </tr>\n",
       "    <tr>\n",
       "      <th>La Pampa</th>\n",
       "      <td>NaN</td>\n",
       "      <td>1173.62</td>\n",
       "      <td>846.77</td>\n",
       "      <td>616.92</td>\n",
       "    </tr>\n",
       "    <tr>\n",
       "      <th>Tucumán</th>\n",
       "      <td>1329.82</td>\n",
       "      <td>966.94</td>\n",
       "      <td>741.49</td>\n",
       "      <td>600.30</td>\n",
       "    </tr>\n",
       "    <tr>\n",
       "      <th>San Luis</th>\n",
       "      <td>NaN</td>\n",
       "      <td>912.93</td>\n",
       "      <td>1102.23</td>\n",
       "      <td>1084.32</td>\n",
       "    </tr>\n",
       "  </tbody>\n",
       "</table>\n",
       "</div>"
      ],
      "text/plain": [
       "                             Precio_m2_Dls                            \n",
       "Tipo_Propiedad                          PH apartment    house    store\n",
       "Provincia                                                             \n",
       "Capital Federal                    2061.80   2859.76  1918.65  3192.15\n",
       "Bs.As. G.B.A. Zona Norte           1707.08   2458.43  1504.91  2349.08\n",
       "Río Negro                          1228.66   2324.95  1366.17  1666.88\n",
       "Chubut                                 NaN   2051.99  1434.49  1332.88\n",
       "Buenos Aires Interior              1377.46   1975.09  1003.99  1077.49\n",
       "Buenos Aires Costa Atlántica       1199.22   1934.16   822.16  1418.62\n",
       "Corrientes                         1424.84   1926.15  1196.60  2289.29\n",
       "Bs.As. G.B.A. Zona Sur             1474.75   1921.31  1385.66  2119.61\n",
       "Bs.As. G.B.A. Zona Oeste           1417.09   1778.16  1239.76  2035.17\n",
       "Neuquén                            2336.30   1765.96   950.92  1217.30\n",
       "Mendoza                             900.00   1696.31  1337.29  1352.16\n",
       "Santa Fe                           1342.69   1693.39  1023.04  1727.01\n",
       "Córdoba                            1198.66   1581.01  1007.01  1814.45\n",
       "Misiones                           1154.66   1458.45  1076.56     9.88\n",
       "Entre Ríos                          474.55   1363.42   759.59  1602.06\n",
       "Salta                                  NaN   1303.00  1055.08   179.47\n",
       "La Pampa                               NaN   1173.62   846.77   616.92\n",
       "Tucumán                            1329.82    966.94   741.49   600.30\n",
       "San Luis                               NaN    912.93  1102.23  1084.32"
      ]
     },
     "execution_count": 65,
     "metadata": {},
     "output_type": "execute_result"
    }
   ],
   "source": [
    "data_p=data.loc[:,['Provincia','Tipo_Propiedad','Precio_m2_Dls']]\n",
    "\n",
    "pivot = data_p.pivot_table(index='Provincia',columns='Tipo_Propiedad',aggfunc='mean').round(2)\n",
    "pivot.sort_values(by=('Precio_m2_Dls', 'apartment'),ascending=False)"
   ]
  },
  {
   "cell_type": "code",
   "execution_count": 66,
   "id": "763b044d",
   "metadata": {},
   "outputs": [
    {
     "data": {
      "image/png": "[encoded data removed]",
      "text/plain": [
       "<Figure size 1521.38x360 with 1 Axes>"
      ]
     },
     "metadata": {},
     "output_type": "display_data"
    }
   ],
   "source": [
    "data_mask1 = data['Provincia'] == 'Capital Federal'\n",
    "data_mask2 = data['Provincia'] == 'Bs.As. G.B.A. Zona Norte'\n",
    "data_mask3 = data['Provincia'] == 'Bs.As. G.B.A. Zona Sur'\n",
    "data_mask4 = data['Provincia'] == 'Buenos Aires Costa Atlántica'\n",
    "data_mask5 = data['Provincia'] == 'Córdoba'\n",
    "\n",
    "data_mask = data_mask1 | data_mask2 | data_mask3 | data_mask4  | data_mask5 \n",
    "\n",
    "with sns.axes_style('white'):\n",
    "    g = sns.catplot(x = \"Provincia\",y='Precio_Dolares', data=data.loc[data_mask,:], aspect=4.0, kind='bar',\n",
    "                    hue='Tipo_Propiedad')\n",
    "    g.set_ylabels('Precio en Dolares')\n",
    "   "
   ]
  },
  {
   "cell_type": "code",
   "execution_count": 67,
   "id": "d7578e2d",
   "metadata": {},
   "outputs": [
    {
     "data": {
      "image/png": "[encoded data removed]",
      "text/plain": [
       "<Figure size 1521.38x360 with 1 Axes>"
      ]
     },
     "metadata": {},
     "output_type": "display_data"
    }
   ],
   "source": [
    "with sns.axes_style('white'):\n",
    "    g = sns.catplot(x = \"Provincia\",y='Precio_m2_Dls', data=data.loc[data_mask,:], aspect=4.0, kind='bar',\n",
    "                    hue='Tipo_Propiedad')\n",
    "    g.set_ylabels('Precio promedio por m2 USD')"
   ]
  },
  {
   "cell_type": "markdown",
   "id": "40f391b7",
   "metadata": {},
   "source": [
    "Se grafican las provincias más caras"
   ]
  },
  {
   "cell_type": "code",
   "execution_count": 68,
   "id": "f57e2d55",
   "metadata": {},
   "outputs": [
    {
     "data": {
      "text/plain": [
       "<AxesSubplot:>"
      ]
     },
     "execution_count": 68,
     "metadata": {},
     "output_type": "execute_result"
    },
    {
     "data": {
      "image/png": "[encoded data removed]",
      "text/plain": [
       "<Figure size 432x288 with 1 Axes>"
      ]
     },
     "metadata": {
      "needs_background": "light"
     },
     "output_type": "display_data"
    }
   ],
   "source": [
    "#Provincias mas caros\n",
    "\n",
    "df=data\n",
    "\n",
    "m2_Dls_Barrio = df.groupby('Provincia')['Precio_m2_Dls'].mean()\n",
    "\n",
    "barrios_caros = list(m2_Dls_Barrio.nlargest(n=5, keep='first').index)\n",
    "barrios_caros_values = list(m2_Dls_Barrio.nlargest(n=5, keep='first'))\n",
    "\n",
    "sns.barplot(y=barrios_caros,x=barrios_caros_values,orient='h')"
   ]
  },
  {
   "cell_type": "markdown",
   "id": "beec2e28",
   "metadata": {},
   "source": [
    "### Bonus!"
   ]
  },
  {
   "cell_type": "markdown",
   "id": "f7eead48",
   "metadata": {},
   "source": [
    "Se observa que el m2 en dólares es mayor al contar con amenities pileta en PH, apartment y house"
   ]
  },
  {
   "cell_type": "code",
   "execution_count": 69,
   "id": "81a58579",
   "metadata": {},
   "outputs": [
    {
     "data": {
      "text/html": [
       "<div>\n",
       "<style scoped>\n",
       "    .dataframe tbody tr th:only-of-type {\n",
       "        vertical-align: middle;\n",
       "    }\n",
       "\n",
       "    .dataframe tbody tr th {\n",
       "        vertical-align: top;\n",
       "    }\n",
       "\n",
       "    .dataframe thead tr th {\n",
       "        text-align: left;\n",
       "    }\n",
       "\n",
       "    .dataframe thead tr:last-of-type th {\n",
       "        text-align: right;\n",
       "    }\n",
       "</style>\n",
       "<table border=\"1\" class=\"dataframe\">\n",
       "  <thead>\n",
       "    <tr>\n",
       "      <th></th>\n",
       "      <th colspan=\"4\" halign=\"left\">Precio_m2_Dls</th>\n",
       "    </tr>\n",
       "    <tr>\n",
       "      <th>Tipo_Propiedad</th>\n",
       "      <th>PH</th>\n",
       "      <th>apartment</th>\n",
       "      <th>house</th>\n",
       "      <th>store</th>\n",
       "    </tr>\n",
       "    <tr>\n",
       "      <th>Amenities_Pileta</th>\n",
       "      <th></th>\n",
       "      <th></th>\n",
       "      <th></th>\n",
       "      <th></th>\n",
       "    </tr>\n",
       "  </thead>\n",
       "  <tbody>\n",
       "    <tr>\n",
       "      <th>pileta</th>\n",
       "      <td>2021.86</td>\n",
       "      <td>2579.40</td>\n",
       "      <td>1479.34</td>\n",
       "      <td>2354.75</td>\n",
       "    </tr>\n",
       "    <tr>\n",
       "      <th>no tiene</th>\n",
       "      <td>1689.32</td>\n",
       "      <td>2330.92</td>\n",
       "      <td>1290.75</td>\n",
       "      <td>2456.66</td>\n",
       "    </tr>\n",
       "  </tbody>\n",
       "</table>\n",
       "</div>"
      ],
      "text/plain": [
       "                 Precio_m2_Dls                            \n",
       "Tipo_Propiedad              PH apartment    house    store\n",
       "Amenities_Pileta                                          \n",
       "pileta                 2021.86   2579.40  1479.34  2354.75\n",
       "no tiene               1689.32   2330.92  1290.75  2456.66"
      ]
     },
     "execution_count": 69,
     "metadata": {},
     "output_type": "execute_result"
    }
   ],
   "source": [
    "data_pileta=data.loc[:,['Provincia','Tipo_Propiedad','Precio_m2_Dls','Amenities_Pileta']]\n",
    "\n",
    "pivot_pileta = data_pileta.pivot_table(index='Amenities_Pileta',columns='Tipo_Propiedad',aggfunc={'Precio_m2_Dls':'mean'}).round(2)\n",
    "pivot_pileta.sort_values(by=('Precio_m2_Dls', 'apartment'),ascending=False)"
   ]
  },
  {
   "cell_type": "code",
   "execution_count": 70,
   "id": "3f08c339",
   "metadata": {},
   "outputs": [
    {
     "data": {
      "image/png": "[encoded data removed]",
      "text/plain": [
       "<Figure size 720x720 with 2 Axes>"
      ]
     },
     "metadata": {
      "needs_background": "light"
     },
     "output_type": "display_data"
    }
   ],
   "source": [
    "#Graficos la matriz de correlacion\n",
    "pivot_pileta\n",
    "data_corr=data.loc[:,['Metros_Totales','Metros_Cubiertos','Precio_Dolares','Precio_ARS','Precio_m2_Dls']]\n",
    "fig, ax = plt.subplots(figsize=(10,10))    \n",
    "\n",
    "sns.heatmap(data_corr.corr(), annot=True, ax=ax);"
   ]
  },
  {
   "cell_type": "code",
   "execution_count": 71,
   "id": "cfdf87d8",
   "metadata": {},
   "outputs": [
    {
     "data": {
      "text/plain": [
       "<AxesSubplot:title={'center':'DataSet_Limpio (Rojo) vs DataSet_Sucio (Azul)'}, xlabel='Porcentaje Nulos', ylabel='Columnas'>"
      ]
     },
     "execution_count": 71,
     "metadata": {},
     "output_type": "execute_result"
    },
    {
     "data": {
      "image/png": "[encoded data removed]",
      "text/plain": [
       "<Figure size 720x576 with 1 Axes>"
      ]
     },
     "metadata": {
      "needs_background": "light"
     },
     "output_type": "display_data"
    }
   ],
   "source": [
    "data_comp = data.drop(columns=['Amenities_Pileta','Amenities_Balcon'])\n",
    "\n",
    "data_limpio = data_comp.isnull().sum()/data_comp.shape[0]\n",
    "data_sucio = data_original.isnull().sum()/data_original.shape[0]\n",
    "fig, ax = plt.subplots(figsize=(10,8))\n",
    "ax.set_title('DataSet_Limpio (Rojo) vs DataSet_Sucio (Azul)')\n",
    "ax.set_xlabel('Porcentaje Nulos')\n",
    "ax.set_ylabel('Columnas')\n",
    "\n",
    "sns.barplot(y=data_sucio.index,x=data_sucio, ax=ax,color='blue',orient='h')\n",
    "sns.barplot(y=data_limpio.index,x=data_limpio, ax=ax,color='red',orient='h')\n",
    "\n"
   ]
  },
  {
   "cell_type": "code",
   "execution_count": 72,
   "id": "39941ed9",
   "metadata": {},
   "outputs": [],
   "source": [
    "data.to_csv('data_practica2.csv',index=False,sep=';')"
   ]
  },
  {
   "cell_type": "markdown",
   "id": "4a463b49",
   "metadata": {},
   "source": [
    "# GRACIAS!"
   ]
  }
 ],
 "metadata": {
  "kernelspec": {
   "display_name": "Python [conda env:dhdsblend2021] *",
   "language": "python",
   "name": "conda-env-dhdsblend2021-py"
  },
  "language_info": {
   "codemirror_mode": {
    "name": "ipython",
    "version": 3
   },
   "file_extension": ".py",
   "mimetype": "text/x-python",
   "name": "python",
   "nbconvert_exporter": "python",
   "pygments_lexer": "ipython3",
   "version": "3.8.12"
  }
 },
 "nbformat": 4,
 "nbformat_minor": 5
}
